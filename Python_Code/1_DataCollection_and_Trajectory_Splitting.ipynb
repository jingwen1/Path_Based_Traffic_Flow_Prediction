{
  "cells": [
    {
      "cell_type": "markdown",
      "metadata": {
        "id": "view-in-github",
        "colab_type": "text"
      },
      "source": [
        "<a href=\"https://colab.research.google.com/github/stratoskar/Path-Based-Traffic-Flow-Prediction/blob/main/Python_Code/DataCollection_and_Trajectory_Splitting.ipynb\" target=\"_parent\"><img src=\"https://colab.research.google.com/assets/colab-badge.svg\" alt=\"Open In Colab\"/></a>"
      ]
    },
    {
      "cell_type": "markdown",
      "id": "e5e79ea0",
      "metadata": {
        "id": "e5e79ea0"
      },
      "source": [
        "**Data Collection**\n",
        "\n",
        "The data used for this research comes from a project called the cabspotting project. Specifically, this dataset contains about 11.000.000 GPS data of various taxis (Yellow Cab Vehicles) in the San Francisco, California area. The whole data sampling occurred in May 2008.\n",
        "\n",
        "<b>You can read more about the dataset in the following link: </b>https://stamen.com/work/cabspotting/"
      ]
    },
    {
      "cell_type": "code",
      "execution_count": 1,
      "id": "b028b0fe",
      "metadata": {
        "id": "b028b0fe",
        "outputId": "e4bd1f87-7512-442f-b146-f6b408612656",
        "colab": {
          "base_uri": "https://localhost:8080/"
        }
      },
      "outputs": [
        {
          "output_type": "stream",
          "name": "stdout",
          "text": [
            "Collecting ipython-autotime\n",
            "  Downloading ipython_autotime-0.3.2-py2.py3-none-any.whl (7.0 kB)\n",
            "Requirement already satisfied: ipython in /usr/local/lib/python3.10/dist-packages (from ipython-autotime) (7.34.0)\n",
            "Requirement already satisfied: setuptools>=18.5 in /usr/local/lib/python3.10/dist-packages (from ipython->ipython-autotime) (67.7.2)\n",
            "Collecting jedi>=0.16 (from ipython->ipython-autotime)\n",
            "  Downloading jedi-0.19.1-py2.py3-none-any.whl (1.6 MB)\n",
            "\u001b[2K     \u001b[90m━━━━━━━━━━━━━━━━━━━━━━━━━━━━━━━━━━━━━━━━\u001b[0m \u001b[32m1.6/1.6 MB\u001b[0m \u001b[31m9.7 MB/s\u001b[0m eta \u001b[36m0:00:00\u001b[0m\n",
            "\u001b[?25hRequirement already satisfied: decorator in /usr/local/lib/python3.10/dist-packages (from ipython->ipython-autotime) (4.4.2)\n",
            "Requirement already satisfied: pickleshare in /usr/local/lib/python3.10/dist-packages (from ipython->ipython-autotime) (0.7.5)\n",
            "Requirement already satisfied: traitlets>=4.2 in /usr/local/lib/python3.10/dist-packages (from ipython->ipython-autotime) (5.7.1)\n",
            "Requirement already satisfied: prompt-toolkit!=3.0.0,!=3.0.1,<3.1.0,>=2.0.0 in /usr/local/lib/python3.10/dist-packages (from ipython->ipython-autotime) (3.0.41)\n",
            "Requirement already satisfied: pygments in /usr/local/lib/python3.10/dist-packages (from ipython->ipython-autotime) (2.16.1)\n",
            "Requirement already satisfied: backcall in /usr/local/lib/python3.10/dist-packages (from ipython->ipython-autotime) (0.2.0)\n",
            "Requirement already satisfied: matplotlib-inline in /usr/local/lib/python3.10/dist-packages (from ipython->ipython-autotime) (0.1.6)\n",
            "Requirement already satisfied: pexpect>4.3 in /usr/local/lib/python3.10/dist-packages (from ipython->ipython-autotime) (4.9.0)\n",
            "Requirement already satisfied: parso<0.9.0,>=0.8.3 in /usr/local/lib/python3.10/dist-packages (from jedi>=0.16->ipython->ipython-autotime) (0.8.3)\n",
            "Requirement already satisfied: ptyprocess>=0.5 in /usr/local/lib/python3.10/dist-packages (from pexpect>4.3->ipython->ipython-autotime) (0.7.0)\n",
            "Requirement already satisfied: wcwidth in /usr/local/lib/python3.10/dist-packages (from prompt-toolkit!=3.0.0,!=3.0.1,<3.1.0,>=2.0.0->ipython->ipython-autotime) (0.2.12)\n",
            "Installing collected packages: jedi, ipython-autotime\n",
            "Successfully installed ipython-autotime-0.3.2 jedi-0.19.1\n",
            "time: 380 µs (started: 2023-12-10 18:00:03 +00:00)\n"
          ]
        }
      ],
      "source": [
        "!pip install ipython-autotime\n",
        "\n",
        "# Measure execution time of each cell\n",
        "%load_ext autotime"
      ]
    },
    {
      "cell_type": "code",
      "execution_count": 3,
      "id": "b8e615b6",
      "metadata": {
        "id": "b8e615b6",
        "outputId": "e80217c1-a584-406b-8392-ef6aa13e3a62",
        "colab": {
          "base_uri": "https://localhost:8080/"
        }
      },
      "outputs": [
        {
          "output_type": "stream",
          "name": "stdout",
          "text": [
            "time: 527 ms (started: 2023-12-10 18:00:14 +00:00)\n"
          ]
        }
      ],
      "source": [
        "# Library to load data files\n",
        "import os\n",
        "\n",
        "# Data analysis libraries\n",
        "import numpy as np\n",
        "import pandas as pd\n",
        "\n",
        "# Cast timestamps library\n",
        "from datetime import datetime, timedelta"
      ]
    },
    {
      "cell_type": "code",
      "execution_count": 5,
      "id": "38d6e90c",
      "metadata": {
        "id": "38d6e90c",
        "colab": {
          "base_uri": "https://localhost:8080/"
        },
        "outputId": "f242ad8e-f351-4cae-92d1-4a87d89c4fbc"
      },
      "outputs": [
        {
          "output_type": "stream",
          "name": "stdout",
          "text": [
            "Mounted at /content/drive\n",
            "time: 24.9 s (started: 2023-12-10 18:02:25 +00:00)\n"
          ]
        }
      ],
      "source": [
        "# Access Google Drive\n",
        "from google.colab import drive\n",
        "drive.mount('/content/drive')\n",
        "\n",
        "# Define the path to the folder with the data\n",
        "PATH = '/content/drive/MyDrive/Paper/Data/SanFranciscoCubs'"
      ]
    },
    {
      "cell_type": "code",
      "execution_count": 7,
      "id": "95d17cc7",
      "metadata": {
        "id": "95d17cc7",
        "outputId": "9bee9835-8e4c-4e3e-91c5-a4ff17b0b855",
        "colab": {
          "base_uri": "https://localhost:8080/"
        }
      },
      "outputs": [
        {
          "output_type": "stream",
          "name": "stdout",
          "text": [
            "time: 2min 35s (started: 2023-12-10 18:05:15 +00:00)\n"
          ]
        }
      ],
      "source": [
        "# taxi_id starts from 0\n",
        "counter = 0\n",
        "\n",
        "# Create an empty dataframe, in which all the data will be saved\n",
        "all_data = pd.DataFrame(columns=['taxi_id','Latitude','Longitude','Occupied','Date Time'])\n",
        "\n",
        "for filename in os.listdir(PATH):\n",
        "    try:\n",
        "      # Read each file in the Data folder\n",
        "      temp = pd.read_csv(PATH+'/'+filename,names=['Latitude','Longitude','Occupied','Date Time'],sep=' ')\n",
        "\n",
        "      # Assign taxi_id number to each file\n",
        "      temp.insert(1,'taxi_id',counter)\n",
        "\n",
        "      # Add the data in this file in the 'all_data' dataframe\n",
        "      all_data = pd.concat([all_data, temp],ignore_index = True)\n",
        "\n",
        "      # Increase taxi_id number by 1\n",
        "      counter += 1\n",
        "    except:\n",
        "      continue"
      ]
    },
    {
      "cell_type": "code",
      "execution_count": 8,
      "id": "d453e70c",
      "metadata": {
        "id": "d453e70c",
        "outputId": "8071a47b-c559-4b2e-d04e-259beb63f7af",
        "colab": {
          "base_uri": "https://localhost:8080/"
        }
      },
      "outputs": [
        {
          "output_type": "stream",
          "name": "stdout",
          "text": [
            "time: 6.71 s (started: 2023-12-10 18:07:50 +00:00)\n"
          ]
        }
      ],
      "source": [
        "#Change datetime field to timestamp\n",
        "all_data['Date Time'] = pd.to_datetime(all_data['Date Time'],origin='unix',unit='s')"
      ]
    },
    {
      "cell_type": "code",
      "execution_count": 9,
      "id": "2890a2fd",
      "metadata": {
        "id": "2890a2fd",
        "outputId": "8e4e5f1b-ae32-4da2-82b4-30686dba9d5e",
        "colab": {
          "base_uri": "https://localhost:8080/"
        }
      },
      "outputs": [
        {
          "output_type": "stream",
          "name": "stdout",
          "text": [
            "time: 6.92 s (started: 2023-12-10 18:07:57 +00:00)\n"
          ]
        }
      ],
      "source": [
        "# Sort the data based in taxi_id and timestamp information\n",
        "all_data = all_data.sort_values(['taxi_id','Date Time'])\n",
        "all_data = all_data.reset_index(drop=True)"
      ]
    },
    {
      "cell_type": "markdown",
      "id": "094f8def",
      "metadata": {
        "id": "094f8def"
      },
      "source": [
        "**Delete the 'Occupied' column**\n",
        "This column denotes whether or not the taxi was occupied by a passenger during GPS recording. So, this information is not useful for our research."
      ]
    },
    {
      "cell_type": "code",
      "execution_count": 10,
      "id": "0453e842",
      "metadata": {
        "id": "0453e842",
        "outputId": "9df57f1f-02c2-4a49-93e4-7a2162e10afa",
        "colab": {
          "base_uri": "https://localhost:8080/"
        }
      },
      "outputs": [
        {
          "output_type": "stream",
          "name": "stdout",
          "text": [
            "time: 309 ms (started: 2023-12-10 18:08:04 +00:00)\n"
          ]
        }
      ],
      "source": [
        "all_data.drop('Occupied',axis=1,inplace=True)"
      ]
    },
    {
      "cell_type": "markdown",
      "source": [
        "**Present information about the dataset**"
      ],
      "metadata": {
        "id": "hPLyApBi4AVL"
      },
      "id": "hPLyApBi4AVL"
    },
    {
      "cell_type": "code",
      "source": [
        "# Show the shape of the dataframe\n",
        "all_data.shape"
      ],
      "metadata": {
        "colab": {
          "base_uri": "https://localhost:8080/"
        },
        "id": "0K7yBmIp3Dp2",
        "outputId": "9e958bb0-70bb-4de0-a188-ac1572b3da6a"
      },
      "id": "0K7yBmIp3Dp2",
      "execution_count": 11,
      "outputs": [
        {
          "output_type": "execute_result",
          "data": {
            "text/plain": [
              "(11219955, 4)"
            ]
          },
          "metadata": {},
          "execution_count": 11
        },
        {
          "output_type": "stream",
          "name": "stdout",
          "text": [
            "time: 3.46 ms (started: 2023-12-10 18:08:06 +00:00)\n"
          ]
        }
      ]
    },
    {
      "cell_type": "code",
      "source": [
        "# Print data types of every column present in the dataframe\n",
        "all_data.dtypes"
      ],
      "metadata": {
        "colab": {
          "base_uri": "https://localhost:8080/"
        },
        "id": "OhF3NUvGBeqV",
        "outputId": "affc382c-adcf-4b65-b44c-d0ea99dd8799"
      },
      "id": "OhF3NUvGBeqV",
      "execution_count": 12,
      "outputs": [
        {
          "output_type": "execute_result",
          "data": {
            "text/plain": [
              "taxi_id              object\n",
              "Latitude            float64\n",
              "Longitude           float64\n",
              "Date Time    datetime64[ns]\n",
              "dtype: object"
            ]
          },
          "metadata": {},
          "execution_count": 12
        },
        {
          "output_type": "stream",
          "name": "stdout",
          "text": [
            "time: 10.3 ms (started: 2023-12-10 18:08:06 +00:00)\n"
          ]
        }
      ]
    },
    {
      "cell_type": "code",
      "source": [
        "# Show schema information of the dataframe\n",
        "all_data.info()"
      ],
      "metadata": {
        "colab": {
          "base_uri": "https://localhost:8080/"
        },
        "id": "1eTs-X5h2eV_",
        "outputId": "d3b00381-a4d9-4840-a207-d1be46fe0096"
      },
      "id": "1eTs-X5h2eV_",
      "execution_count": 13,
      "outputs": [
        {
          "output_type": "stream",
          "name": "stdout",
          "text": [
            "<class 'pandas.core.frame.DataFrame'>\n",
            "RangeIndex: 11219955 entries, 0 to 11219954\n",
            "Data columns (total 4 columns):\n",
            " #   Column     Dtype         \n",
            "---  ------     -----         \n",
            " 0   taxi_id    object        \n",
            " 1   Latitude   float64       \n",
            " 2   Longitude  float64       \n",
            " 3   Date Time  datetime64[ns]\n",
            "dtypes: datetime64[ns](1), float64(2), object(1)\n",
            "memory usage: 342.4+ MB\n",
            "time: 14.8 ms (started: 2023-12-10 18:08:06 +00:00)\n"
          ]
        }
      ]
    },
    {
      "cell_type": "code",
      "source": [
        "# Present statistical insights about this dataframe\n",
        "all_data.describe()"
      ],
      "metadata": {
        "colab": {
          "base_uri": "https://localhost:8080/",
          "height": 318
        },
        "id": "xq7GgVdR3Hbn",
        "outputId": "04b0616c-8dd3-405d-a373-3222adde9c8d"
      },
      "id": "xq7GgVdR3Hbn",
      "execution_count": 14,
      "outputs": [
        {
          "output_type": "execute_result",
          "data": {
            "text/plain": [
              "           Latitude     Longitude\n",
              "count  1.121996e+07  1.121996e+07\n",
              "mean   3.776360e+01 -1.224124e+02\n",
              "std    5.386020e-02  3.578213e-02\n",
              "min    3.286970e+01 -1.270814e+02\n",
              "25%    3.775513e+01 -1.224253e+02\n",
              "50%    3.778107e+01 -1.224111e+02\n",
              "75%    3.779045e+01 -1.224003e+02\n",
              "max    5.030546e+01 -1.155622e+02"
            ],
            "text/html": [
              "\n",
              "  <div id=\"df-370aaded-ad45-42f4-bc74-28f4d15e95df\" class=\"colab-df-container\">\n",
              "    <div>\n",
              "<style scoped>\n",
              "    .dataframe tbody tr th:only-of-type {\n",
              "        vertical-align: middle;\n",
              "    }\n",
              "\n",
              "    .dataframe tbody tr th {\n",
              "        vertical-align: top;\n",
              "    }\n",
              "\n",
              "    .dataframe thead th {\n",
              "        text-align: right;\n",
              "    }\n",
              "</style>\n",
              "<table border=\"1\" class=\"dataframe\">\n",
              "  <thead>\n",
              "    <tr style=\"text-align: right;\">\n",
              "      <th></th>\n",
              "      <th>Latitude</th>\n",
              "      <th>Longitude</th>\n",
              "    </tr>\n",
              "  </thead>\n",
              "  <tbody>\n",
              "    <tr>\n",
              "      <th>count</th>\n",
              "      <td>1.121996e+07</td>\n",
              "      <td>1.121996e+07</td>\n",
              "    </tr>\n",
              "    <tr>\n",
              "      <th>mean</th>\n",
              "      <td>3.776360e+01</td>\n",
              "      <td>-1.224124e+02</td>\n",
              "    </tr>\n",
              "    <tr>\n",
              "      <th>std</th>\n",
              "      <td>5.386020e-02</td>\n",
              "      <td>3.578213e-02</td>\n",
              "    </tr>\n",
              "    <tr>\n",
              "      <th>min</th>\n",
              "      <td>3.286970e+01</td>\n",
              "      <td>-1.270814e+02</td>\n",
              "    </tr>\n",
              "    <tr>\n",
              "      <th>25%</th>\n",
              "      <td>3.775513e+01</td>\n",
              "      <td>-1.224253e+02</td>\n",
              "    </tr>\n",
              "    <tr>\n",
              "      <th>50%</th>\n",
              "      <td>3.778107e+01</td>\n",
              "      <td>-1.224111e+02</td>\n",
              "    </tr>\n",
              "    <tr>\n",
              "      <th>75%</th>\n",
              "      <td>3.779045e+01</td>\n",
              "      <td>-1.224003e+02</td>\n",
              "    </tr>\n",
              "    <tr>\n",
              "      <th>max</th>\n",
              "      <td>5.030546e+01</td>\n",
              "      <td>-1.155622e+02</td>\n",
              "    </tr>\n",
              "  </tbody>\n",
              "</table>\n",
              "</div>\n",
              "    <div class=\"colab-df-buttons\">\n",
              "\n",
              "  <div class=\"colab-df-container\">\n",
              "    <button class=\"colab-df-convert\" onclick=\"convertToInteractive('df-370aaded-ad45-42f4-bc74-28f4d15e95df')\"\n",
              "            title=\"Convert this dataframe to an interactive table.\"\n",
              "            style=\"display:none;\">\n",
              "\n",
              "  <svg xmlns=\"http://www.w3.org/2000/svg\" height=\"24px\" viewBox=\"0 -960 960 960\">\n",
              "    <path d=\"M120-120v-720h720v720H120Zm60-500h600v-160H180v160Zm220 220h160v-160H400v160Zm0 220h160v-160H400v160ZM180-400h160v-160H180v160Zm440 0h160v-160H620v160ZM180-180h160v-160H180v160Zm440 0h160v-160H620v160Z\"/>\n",
              "  </svg>\n",
              "    </button>\n",
              "\n",
              "  <style>\n",
              "    .colab-df-container {\n",
              "      display:flex;\n",
              "      gap: 12px;\n",
              "    }\n",
              "\n",
              "    .colab-df-convert {\n",
              "      background-color: #E8F0FE;\n",
              "      border: none;\n",
              "      border-radius: 50%;\n",
              "      cursor: pointer;\n",
              "      display: none;\n",
              "      fill: #1967D2;\n",
              "      height: 32px;\n",
              "      padding: 0 0 0 0;\n",
              "      width: 32px;\n",
              "    }\n",
              "\n",
              "    .colab-df-convert:hover {\n",
              "      background-color: #E2EBFA;\n",
              "      box-shadow: 0px 1px 2px rgba(60, 64, 67, 0.3), 0px 1px 3px 1px rgba(60, 64, 67, 0.15);\n",
              "      fill: #174EA6;\n",
              "    }\n",
              "\n",
              "    .colab-df-buttons div {\n",
              "      margin-bottom: 4px;\n",
              "    }\n",
              "\n",
              "    [theme=dark] .colab-df-convert {\n",
              "      background-color: #3B4455;\n",
              "      fill: #D2E3FC;\n",
              "    }\n",
              "\n",
              "    [theme=dark] .colab-df-convert:hover {\n",
              "      background-color: #434B5C;\n",
              "      box-shadow: 0px 1px 3px 1px rgba(0, 0, 0, 0.15);\n",
              "      filter: drop-shadow(0px 1px 2px rgba(0, 0, 0, 0.3));\n",
              "      fill: #FFFFFF;\n",
              "    }\n",
              "  </style>\n",
              "\n",
              "    <script>\n",
              "      const buttonEl =\n",
              "        document.querySelector('#df-370aaded-ad45-42f4-bc74-28f4d15e95df button.colab-df-convert');\n",
              "      buttonEl.style.display =\n",
              "        google.colab.kernel.accessAllowed ? 'block' : 'none';\n",
              "\n",
              "      async function convertToInteractive(key) {\n",
              "        const element = document.querySelector('#df-370aaded-ad45-42f4-bc74-28f4d15e95df');\n",
              "        const dataTable =\n",
              "          await google.colab.kernel.invokeFunction('convertToInteractive',\n",
              "                                                    [key], {});\n",
              "        if (!dataTable) return;\n",
              "\n",
              "        const docLinkHtml = 'Like what you see? Visit the ' +\n",
              "          '<a target=\"_blank\" href=https://colab.research.google.com/notebooks/data_table.ipynb>data table notebook</a>'\n",
              "          + ' to learn more about interactive tables.';\n",
              "        element.innerHTML = '';\n",
              "        dataTable['output_type'] = 'display_data';\n",
              "        await google.colab.output.renderOutput(dataTable, element);\n",
              "        const docLink = document.createElement('div');\n",
              "        docLink.innerHTML = docLinkHtml;\n",
              "        element.appendChild(docLink);\n",
              "      }\n",
              "    </script>\n",
              "  </div>\n",
              "\n",
              "\n",
              "<div id=\"df-efdb8d1b-2943-48f9-8d95-3cfab68d18dc\">\n",
              "  <button class=\"colab-df-quickchart\" onclick=\"quickchart('df-efdb8d1b-2943-48f9-8d95-3cfab68d18dc')\"\n",
              "            title=\"Suggest charts\"\n",
              "            style=\"display:none;\">\n",
              "\n",
              "<svg xmlns=\"http://www.w3.org/2000/svg\" height=\"24px\"viewBox=\"0 0 24 24\"\n",
              "     width=\"24px\">\n",
              "    <g>\n",
              "        <path d=\"M19 3H5c-1.1 0-2 .9-2 2v14c0 1.1.9 2 2 2h14c1.1 0 2-.9 2-2V5c0-1.1-.9-2-2-2zM9 17H7v-7h2v7zm4 0h-2V7h2v10zm4 0h-2v-4h2v4z\"/>\n",
              "    </g>\n",
              "</svg>\n",
              "  </button>\n",
              "\n",
              "<style>\n",
              "  .colab-df-quickchart {\n",
              "      --bg-color: #E8F0FE;\n",
              "      --fill-color: #1967D2;\n",
              "      --hover-bg-color: #E2EBFA;\n",
              "      --hover-fill-color: #174EA6;\n",
              "      --disabled-fill-color: #AAA;\n",
              "      --disabled-bg-color: #DDD;\n",
              "  }\n",
              "\n",
              "  [theme=dark] .colab-df-quickchart {\n",
              "      --bg-color: #3B4455;\n",
              "      --fill-color: #D2E3FC;\n",
              "      --hover-bg-color: #434B5C;\n",
              "      --hover-fill-color: #FFFFFF;\n",
              "      --disabled-bg-color: #3B4455;\n",
              "      --disabled-fill-color: #666;\n",
              "  }\n",
              "\n",
              "  .colab-df-quickchart {\n",
              "    background-color: var(--bg-color);\n",
              "    border: none;\n",
              "    border-radius: 50%;\n",
              "    cursor: pointer;\n",
              "    display: none;\n",
              "    fill: var(--fill-color);\n",
              "    height: 32px;\n",
              "    padding: 0;\n",
              "    width: 32px;\n",
              "  }\n",
              "\n",
              "  .colab-df-quickchart:hover {\n",
              "    background-color: var(--hover-bg-color);\n",
              "    box-shadow: 0 1px 2px rgba(60, 64, 67, 0.3), 0 1px 3px 1px rgba(60, 64, 67, 0.15);\n",
              "    fill: var(--button-hover-fill-color);\n",
              "  }\n",
              "\n",
              "  .colab-df-quickchart-complete:disabled,\n",
              "  .colab-df-quickchart-complete:disabled:hover {\n",
              "    background-color: var(--disabled-bg-color);\n",
              "    fill: var(--disabled-fill-color);\n",
              "    box-shadow: none;\n",
              "  }\n",
              "\n",
              "  .colab-df-spinner {\n",
              "    border: 2px solid var(--fill-color);\n",
              "    border-color: transparent;\n",
              "    border-bottom-color: var(--fill-color);\n",
              "    animation:\n",
              "      spin 1s steps(1) infinite;\n",
              "  }\n",
              "\n",
              "  @keyframes spin {\n",
              "    0% {\n",
              "      border-color: transparent;\n",
              "      border-bottom-color: var(--fill-color);\n",
              "      border-left-color: var(--fill-color);\n",
              "    }\n",
              "    20% {\n",
              "      border-color: transparent;\n",
              "      border-left-color: var(--fill-color);\n",
              "      border-top-color: var(--fill-color);\n",
              "    }\n",
              "    30% {\n",
              "      border-color: transparent;\n",
              "      border-left-color: var(--fill-color);\n",
              "      border-top-color: var(--fill-color);\n",
              "      border-right-color: var(--fill-color);\n",
              "    }\n",
              "    40% {\n",
              "      border-color: transparent;\n",
              "      border-right-color: var(--fill-color);\n",
              "      border-top-color: var(--fill-color);\n",
              "    }\n",
              "    60% {\n",
              "      border-color: transparent;\n",
              "      border-right-color: var(--fill-color);\n",
              "    }\n",
              "    80% {\n",
              "      border-color: transparent;\n",
              "      border-right-color: var(--fill-color);\n",
              "      border-bottom-color: var(--fill-color);\n",
              "    }\n",
              "    90% {\n",
              "      border-color: transparent;\n",
              "      border-bottom-color: var(--fill-color);\n",
              "    }\n",
              "  }\n",
              "</style>\n",
              "\n",
              "  <script>\n",
              "    async function quickchart(key) {\n",
              "      const quickchartButtonEl =\n",
              "        document.querySelector('#' + key + ' button');\n",
              "      quickchartButtonEl.disabled = true;  // To prevent multiple clicks.\n",
              "      quickchartButtonEl.classList.add('colab-df-spinner');\n",
              "      try {\n",
              "        const charts = await google.colab.kernel.invokeFunction(\n",
              "            'suggestCharts', [key], {});\n",
              "      } catch (error) {\n",
              "        console.error('Error during call to suggestCharts:', error);\n",
              "      }\n",
              "      quickchartButtonEl.classList.remove('colab-df-spinner');\n",
              "      quickchartButtonEl.classList.add('colab-df-quickchart-complete');\n",
              "    }\n",
              "    (() => {\n",
              "      let quickchartButtonEl =\n",
              "        document.querySelector('#df-efdb8d1b-2943-48f9-8d95-3cfab68d18dc button');\n",
              "      quickchartButtonEl.style.display =\n",
              "        google.colab.kernel.accessAllowed ? 'block' : 'none';\n",
              "    })();\n",
              "  </script>\n",
              "</div>\n",
              "    </div>\n",
              "  </div>\n"
            ]
          },
          "metadata": {},
          "execution_count": 14
        },
        {
          "output_type": "stream",
          "name": "stdout",
          "text": [
            "time: 1.59 s (started: 2023-12-10 18:08:06 +00:00)\n"
          ]
        }
      ]
    },
    {
      "cell_type": "markdown",
      "source": [
        "**Split the trajectories based on time field and FIle ID**\n",
        "\n",
        "![Screenshot from 2023-12-10 11-44-02.png](data:image/png;base64,iVBORw0KGgoAAAANSUhEUgAAAVIAAACcCAYAAAAtQCOfAAAABHNCSVQICAgIfAhkiAAAABl0RVh0U29mdHdhcmUAZ25vbWUtc2NyZWVuc2hvdO8Dvz4AAAAtdEVYdENyZWF0aW9uIFRpbWUAU3VuIDEwIERlYyAyMDIzIDExOjQ0OjAyIEFNIEVFVFuzwwEAACAASURBVHic7Z13WBTHG8e/x9GrgKhREMReAcGKlCiK2HvDLnZJRE3UxO5PYzR2EHtDjYIN1GBvWBFUEATBKIIFadLLcXfv74+VchQxUu6Q+TzPPRwz8+58d2/33dnZmXd4RERgMBgMxjcjJ20BDAaDUd1hjpTBYDDKCXOkDAaDUU6YI2UwGIxywhwpg8FglBPmSBkMBqOcMEfKYDAY5YQ5UgaDwSgnzJEyGAxGOWGOlMFgMMoJc6QMBoNRTpgjZTAYjHJSaY40MDCwWtvLggZmz+ylaS8LGqqLPWuRMhgMRjlhjpTBYDDKiby0BcgSRAQ/Pz/cv38fKSkpSE5ORkxMDPr16wd5+ZpzqN69e4dDhw4hICAA6urq0NbWRq9eveDg4AA5ue/73pt3Dly6dAmRkZFo0KABjIyM4OjoiNq1a0tbXpWQlJSEQ4cO4dmzZ3j37h309fXRoUMHjB07Furq6tKWJ5N831fFVyIUCrF7926YmJhg2rRpiI+Ph6qqKjQ1NbFx40Y0atQIa9asQUpKirSlViohISEYMWIE2rZti5iYGNjb26N79+7Q19fHsmXL0KxZM2zduhVisVjaUiscIsL+/fthamqKqVOngs/nw9raGvr6+ggMDETTpk0xefJkRERESFtqpfH+/XtMnToVjRs3RkBAACwtLTFp0iR06tQJly5dgqGhIVxcXJCcnCxtqTJHzWlmlYJQKMS4ceMQHR2NTZs2oUePHuDxeBJlnj59inXr1qF79+64evUqtLW1paS28ggICEDfvn2xcOFC7N27F5qamhL5CxYswMOHDzFv3jwEBwdjz549303rlIjg4uKCW7du4a+//kKPHj2K7Vt8fDx27twJGxsbXLp0Ce3atZOS2srh3bt3sLW1xYABAxAeHo66detK5E+bNg1v3rzBihUr0LNnT1y5cgW1atWSklrZ4/u4Er6RPCealJSEq1evws7OrpgTBQBTU1P8/fffsLGxgZ2dHT59+iQFtZVHYGAg+vbti927d2PevHnQ1FRHUsQ9XPP1Q0Q6V4bH46Fz5864fPkyIiMjMXXqVEisUpOTAwiFQFYWIBYDOTkgkYhLy83l0nJzASIuTSzmPiJRQRpRQToRZ0/E2eVtJyuLs0lN5dLS0oDsbK7+9PSCvNxcLj07m/uekcFtNzOT+18gAIRCkFgMFxcX3Lt3Dzdu3EDPnj1LvEHo6elh6dKl2LJlC+zt7fHs2bMq+nUqn/fv38PW1hZOTk7YuHGjpBMVBmPzkEk4+E4MQ0ND7N+/H127dkXPnj2/+ye0/0KNdqRHjhxBVFQUzp49CxUVlS+W5fF42LhxI8zMzLB06dIqUlg1zJo1Cxs2bMDAgQM/p4iRm3Efm2dthX+uZFl1dXX8888/uHfnDq79+CNw4wbw88/AihWAry9gbQ1ERQG9e0Pn0iVg3Tpg6lTA3x9o0wYICgLGjAE2bgT27AH69AFevQJatQIuXwacnYFffwW8vdHS0ZHL69kTOH4c2LABmDMHCAzk6gkL4/7ftQs4dgxwdASiowFbW+DWLTRwdwdWruS2++OPnK6BAwFPT67+SZPgt2sXzp04gcuXLxdrYQke/YEBTkfxsVBPxsiRI7Fq1SrMmDGj8n6QKmb16tXo168fFi5cWDxTvhUm7tqEsQ04V8Hj8bBlyxYYGxvD1dW1ipXKMFRJBAQEyLS9WCym9u3b04ULF0rIFVLyK3+6GxRL2SIRiQrlxMTEkLa2NqWkpJRbgyzYP3z4kIyMjEgoFEqk5z5bSV27b6LXopLtdu3aRQNtbIgEAqLs7G+u/0tUhf3wYcNo+7ZtJWfmJNLHpNxiybm5uWRgYECBgYHlrl/a9p8+faJatWrR+/fvi2fmfKRnd+7Tv2nFs548eUL6+vqUm1v8+PxXDd+DfY1tkT548AApKSno3bu3ZIb4PXyXTcWq23Kom3EKE80Gwu1dQZNEX18fPXr0gIeHRxUrrhzc3d0xc+ZM8Pn8QqlixN95iNxOHcAPvYt7oXHIKWLn6OgIv2fPEP3hA6CkVJWSK4z379/j6rVrGD9hQrE8cdorBISmQU27+GsEeXl5zJw5E25ublUhs1Lx8PCAvb09fvjhB8mM7CAcd7+IxLRzmOF8GmlF7ExNTWFoaIhz585VmVZZpsY6Un9/f/Tu3btIf5gY748445eoflg2wRyNm6tDoNQSFnqSh6lPnz7w9/evWsGVRHBwMLp3714kNRN3/YLB+xSJUDSA+Ng4zDwjeSmpqanBwsICz58/rzqxFUxISAjat29f7MUaMh7g8IEg/Ht4Kn69VPQWwmFnZ4enT59WgcrKJSQkBDY2NsXSc8ITUX/UWHTIeY8P4INfgq2trS1CQkIqX2Q14Jve2n/ttClZnt4VFhYGXV3dIqmJ+MfTH20nHIQWgOyHdxHVpi9MFCVL1apVC9HR0V+lT5aPAcCNGVRTU5NMFATiTmgrjDs7Hr2NCE88U5CQkA1AQ6KYoqIi/vnnHyQmJpa6/fDw8G+VXun2/v7+UFZWLpYueJkBw6GtEDghF/rTSr5ENDU1kZiYWObxlfXf/+3bt+jWrVuxdCXT7rCGAPf8nqGx1XqolmCrrq6O0NDQan8M/ou9ubl5iWW+yZGWtrGilX9NOWnZ37p1C9HR0ZKJYjGE0EezZioAMvHoaiAMLFej6KWWlpaGBg0alKlP1o8BAOjq6iI1NVUiTfTSDwG69pjbkA+IXuLaPVVYjtUpZhsbG4vz589j+/bt36xR2lhYWBRLUzTpAaugFVjKHwyPZiW1xbhzQFdX94vHtzr8/oaGhqWPCxVFwS9AHV1nFP/tASAlJQUtW7as9segIuxr7DjSNm3awMPDA0RUMORJTg9DnR2wxuc4vJ6+xKGzSrCcplus/+PWrVto06ZNlWuuDCwsLHDp0iV06tTpcwrXP5rTaSn05QBRxGn48vtjl6IPPG87YIQ1d1tJTk5GZGQkHj9+XGzMYR7BwcHlGm9Z2faxsbHo0aMHUlNTizzeCxDw9yXUGXkSmT5nENR/MEyKXClXrlyBqanpN2uTFTp27AhPT084OzsXz0y6gwcZnbCwYfGbCRHhwoUL2LRpUxWolH1qrCO1s7NDeno67t+/j65du35OlYOe/TJssQeQeAjHt3eBdSPJkygpKQmnT5/GixcvqlxzZTB79mzY29tj0aJFUFRUBCDAI/9YdBhlAnkAwiwRtH4g3PbJgsnUgrb5wYMH4eDgADMzs1K3/eHDB9SvX/+btVW2ff369WFnZ4fDhw9jzpw5hXIIWQId6GX+g1u6Nij6dC8UCuHu7o6zZ89+szZZYeTIkfj1118RGRmJpk2bSuSl37mNGPNRMFUsbufn5weBQIAePXpUkVLZpsa+bJKTk8Ps2bOxdu3az1MexYg76ohuv/pBIPqIa3+dhuK0qehc5CTavHkz+vfvjzp16khFd0XTtm1bNG/eHDt37vycogz7zdexyY57Ey9vshiebrMwynkMzD93lCUkJGDLli0lt2KqGc7OztiyZUuRx1sl/PjXCfzhOA6zBjYr1to4ePAgDAwM0L59+6qUWimoqKhgypQpWLZsGXcdiKOxd2h3LLtxH27HMzB+tl2xri2BQIAVK1Zg9uzZJU5gqYnUWEcKAFOnTkVqaiqmTZsGsRio3dMFCy1icfbEdWSP2o8j05pLvK10c3ODh4cHVq1aJTXNlcHOnTuxfv16HDhwAACgqKEhcfHIq2tA9fOZkpCQADs7O4waNQpdunSperEVjJWVFfr06QN7e3tJZyqnDh3t4i+iPD09sWTJEri7u1ehysrlt99+Q3R0NGbOnAkxfkCfhS5o8ykD/Xb8jZ/aSt5GBAIBRowYAQ0NDUyfPl1KimWPGu1I1dTU8M8//+DFixcYM2YMXqdpo/+I4RgxZjT6mujmO9GEhAT8/vvv2LBhA27cuAEjIyNpyq5wmjdvjmvXrmHp0qVYOH8+3r59W6yMSCSCt7c3bGxs0Lt3b/zxxx/fRWuEx+Nh69at6NSpU34sBSo89fUzCQkJ+N+qVfhpxozvbq69hoYGLl68iJCQEAwZMhzvePUwYogdWusWOFEiws2bN2Fvbw8igpeX1+euIAZQg/tI81BXV4evry9WrVqFzp07o2PHjujXrx+0tbWRnp6O69fvwMfHGyNGDMatW7dgaGgobcmVQvPmzXH30iX8tXw52rVrBysrK5ibm0NZWRlxcXHw8vJC/fr1sWTJEowaNeq7cKJ55DnT/fv3w8XFBUKhECNHjkSdOnWQnZ2NoKAgeHt7Y1CvXrjl44PmJibSllzhaGho4NKlS9ixYweGDx+OunXrwsbGBpqamkhOTsbFixchFosxZ84cODk5MSdahBrdIs1DXV0d69evR3R0NIYNG4YnT55g+vTp2LdvH9q3b4OoqEjs37//u3WieRhqamK7mRmioqJgbGyMlStX4v3799DW1sapU6dw//59jB49+rtyonnweDxMmTIFwcHB2LlzJ3JycrBq1SqcOnUKZmZmiIyMxME+fdD8+nVpS6001NXV8euvv+Lff//FkiVLEBcXh+XLl0NbWxtbt25FaGgoZs2axZxoCdT4FmlhVFRUMGnSJEyaNAkeHh4YNGgQ+vVbgORkoEbE9H35EmjRApqamnBwcMCWLVuwfv36GnXh8Hg82NjYwMbGBmfPnkWvXr0wd+5cLrNvX6AGxOLk8/no378/FBQUcOjQISxcuLBGBTb/FliLtAwiIoDXr6WtooowNgaaN5e2CtklPBy4dk3aKhgyCLvNlMGAAdJWUIUcOwbUrcuFu2MUp04dICZG2ioYMghzpGVw8CCgpgYMHy5tJVXA1KkAe4QrHVVVoF49aatgyCDs0b4MwsO5rsMawfHjXKBmRsl8+sQFhWYwisCaH2UgJ8etdlEjMDUFdEoOUMEA0KwZsGSJtFUwZBDWIi0DY2PAwEDaKqqIjAxujSNGybx9C/z0U6EEAcJ8TuFR0ajHjBoHj0qaxlEG5Y3vVx3o2rUrVq1aBTs7O2lLqTJqnzyJ7IYNkd6xIx48eIA5c+bg/v37UFBQkLY0qTB27FhYW1tj2rRpAABeZibUg4OR1rkzV0AQgA2Tz8Bk1xr0UvvChqop9+7dw08//YQHDx6w4U+fKTWkXrkWNKmAtU5k1V5ZWZnWrVtHV68SXb1aOCeHnnufJP/UytdQ5fZRUUTx8UREdOnSJQJAOTk5VVe/jNm3aNGCVqxYUZAQH0+0di0RiSj5TQg9OTeXzDsvosvBbyi5hLWtpK2/vPa+vr4EoMx1mSpTQ3WxZ4/2ZVCnDvfJJ+cu3FeewiupKapEXF2BW7ekrUJ24fO5pZ5ByE5Lwusb9yE0aQOF1AwIAECcgn/vX8LFW6GIF0pZK6NKYY60DNq25T6AGCnRoXh6xQf3FA2hExWNFHFZ1tWM6dOBEtbvYXxGRQXo3RsAH3VbtwclCGE5fBhsLVtCT06IZxvnYr+gKzrzPTBuxpliC8Yxvl+YIy2DjRuBNWuAUlsh3xO+vsB3ErC6UsjIAObP574LAuH3vBmsLPJWUJVHs3Er4dxJBVkfU6BUvw5qzsRaBnOkZZCdzV0/JbdCAKS9wv1Ll3A3IhnVvoH6ww9s+NOXqFUrfxyp6KUfAnS6wEo9GXdPX0SMCFCqpw96dgangxXRqrEWasqoOQZzpGUiMY60aCsk+z52uD5CrXZNkbJ3PCYffSc1nRWCjg5QwqqajM/k5AAuLtx3ZV3U1UjEnSNH8dagCwx4n3D3sBfi2g3H7N8ckLThD9xhI8lqDGxMQxl06VIwtDKvFbJAPRl3Tz9Awx6aUKrbEAY/GKNR9/pYe+EF4NhAuoLLw9WrgIMD0KiRtJXIJkpKXAQoAHzjGTi+LxHpyrqopQQAn5D2NgihD1sg5+N1JNsORjv2bF9jYI60DGxtC/2jrIu6GrG4c+Qo0GosLLW0MGUygOwQ7DzLh5OLtZRUVhDOzoDEapqMYqQVvEKS19JFrfz/tNH7t1VIiXmJ2Ea/4+hwLQTVgPHWDA7mSMvA0xNITARmziypFQIgJQgnPZ6g9fLV0I6PAVCNW3MrVgCOjoB1Nb8hVBZ8PnDvHvd4L1dSr5g8tAxaQKvKhTGkDXOkZWBvD4gLvUWSaIVkPsTawZPhKa4H3dO7oDPgALyq81I+jo55Y70YpbFsGfAdrhDAKB/MkZaBWAwIShvnpNoJv10PxW9VqqgSCQgAjIwAbW1pK5FdxozhjpOKirSVMGQI9ta+DA4fBtaulbaKKiI1lYu5ySidAweAGhp7gFE6zJGWgZwcIBJJW0UVYWvLHGlZHDgAZGZKWwVDxmCOtAx4vBoUj3TBghp01/hGzMwk3twzGADrIy2Tvn1ryEvs3FzgxAlAXV3aSmQbAwNuPCmDUQgWj7QUalo8Uvn4eDTYvh1vVq0CABaPFMXjkQLADzt3It3EBGldukhRWdXA4pEWh8Uj/Y/kxSM9dozot9+ko6FK7cPCiC5fzv+XxSMtIR4pEVFcHFFycpXUL217Fo/06+3ZbaYMRo+WtoIqJDdX2gpkn2PHAC0tYOJEaSthyBDsZVMZJCYCp05JW0UV4OvLzdxhfJkBA4DWraWtgiFjMEdaBhkZRdY7+14ZNQro0EHaKmSf+HggJkbaKhgyBnOkZaCvDyQnf15h4ntmzBggK0vaKmSfH37gZjYxGIVgjrQM5OSAli2BN2+kraQSefkSWLcOaFCNQwBWFbVrA0OG1KDBxYyvgTnSr+Dy5e88lkd6OhAdLW0V1QMVFW7OcEiItJUwZAjmSL8CHR3g2jVg505pK6kEsrKAxYuBQYMkkom1uErH3V0yJBhD5sjNzcXHjx8RFxeHrCrosqrQ4U+RkZFwd3fHkydPEB8fDz09PZiZmWHmzJlo2rRpRVZVKURHR2Pnzp148OABlJSUcODAAbx58wYzZ85Eu3Zt0bQpN4NSLP5O4laIxdzb+r17AQUFpKWlwcPDAzt37kRYWBh4PB60tbVhbW2NOXPmwMHBAXIlxuH8fsjNzcWZM2dw9uxZJCUlwcvLCzExMZgwYQK6desGHo8HvHsH+PtzfT6K32cY/IyMDFy+fBl8Ph9z586Fjo4OrK2t0aNHD+4YyChPnz6Fq6srjh8/DhUVFfB4PKSmpsLGxgbOzs5wcHAAvxJGp1TIVREZGQkHBwdYWlpCWVkZS5cuxYEDB7B06VIoKSnB0tISDg4OiIyMrIjqKpx3795hyJAhMDMzQ2ZmJhYvXozLly/D3d0d9erVQ+/evTF8uC2Skp7i4EHAzo6L71utG20hIdwa9s+eAbq62LNnDwwNDXH9+nVs3boVqampEIlEePfuHUaNGoXly5ejadOmePLkibSVVwpEhA0bNsDIyAhubm7o0aMHDh06hD///BMtW7aEk5MTzMzMcPbsWaB9e6BTJ6DQjKfvhdjYWMyfPx+GhoYIDw/HqlWr0KRJEwCAi4sLWrVqhR07dkAkYzEZcnJyMHz4cPTv3x/GxsZ49eoV4uPjERcXh+TkZDg6OmLlypVo06YN3lTGC49yDfsnooiICNLX16cNGzZQVlZWiWWysrJow4YNpK+vTxEREV+13aqakfD27Vtq2rQp/f7775SWllZiGYFAQLt376Y6deqQv38gbdtG1Lgx0ahRXL5YXD4NpfGf7EUiIoGAKDOTKDub6ONHCnjwgOjNG6J//yV68oRo/36iV6+IBg4kevaMyMeHiIjc3d2pYcOGFB4eXurmxWIxHT9+nOrWrUuPHz+ueP1StBeLxTRz5kzq1KkTBQUFlVhGJBKRr68v1a9fnw4ePMj96CkpRH37EuXklHgSVJf9zyMmJoaaNGlCs2fPptevXxfLF4vFdPPmTbK0tCRHR0cSCoUVruFb7LOzs6l///40ZMiQ4jPxREkUeuUMed/5l9KJaPPmzdSoUSOKioqi7Oxs8vT0pLdv35Zbf7kc6evXr0lfX5/27t37VeX37t5N+jo69PrMGaIhQ4iio4mcnYm8vIiOHCGaP58oMpJo4EAKPXqUaOlSInd3ovPnicaP58qPGEF05QrRpk1EK1cS3b9P5OBAFBVFNG0a0d9/Ex04QLEjRhC9eEHUqxdRQADRwoVEW7dyzmP4cKI3byjO3p6aGhjQujVrCkSmvqZHN3zpalAciYroP336NNXR0aFn48aR8M8NFLXzH6L+/WlwrzQK7TKZEo760njTp7S8y0U6uDiMXja3Jnr5kkId5hHt3UsZW3dT/NBplBEYRiJzC6J794hmzyZas4Y7BnZ2nKOztiY6c4beTp3KHZ+bN4natSOKiCAaPJho506i7duJhg0jCg0latKE6PZtIicnolWriE6eJHJwoKBz54gGDeKOkacnd9zevuVsPl/4J06coIYNG9LLly+/6jc8efIk1a1bl6KiososW10cyZw5c6hz586UkpJSQm4GRT+9SRd9HxERUVhYGNWvX588PDy47NevuXPx0CHu3EpPJ4qPJxKJ6NGjR1WivyLs85zo+vXryyybkZFBdnZ2X+VMq2IfJk6cSEOGDCGBQFAkR0RRu4bRiI27aXLb8XQynUvdsmULNW7cmLKzs+nBgwcEgADQ/Pnz6fbt2xJTYqvEkU6fPp0WL178n2wWL1pEMyZNInr8mCgri5vjHRtL9P495ygyMoiCgijw9m3Oqbx7R5SYSBQezrW0wsKIPn3i0mNiiFJTubTsbO6kTkggio+n4PPnue3nbfPdu4J50lFRRDk5tNTZmaZMniyhT5T4nA6Nb05Wf0ZSSafI5s2baUi/fpyG9HSi2FjKzRKQ6EMspcRm0D7XDFqyIJMcR+XS4a0PiHJzqW+vHKKMDDp+KIt0tYWkoiwiHsSU8CGHnt5No2mTBUTZ2bRkQSa1aysiC7NcGjU8lwLu3KGzJ7Lo7KlcotRUmjVTRAP7CmjQACG5bhEQZWXRpr+E9DJcQJmZRPPmEf3vf9y9JyKCOwlCQ0v/LcRiMbVu3ZquXLnyn37DefPm0YIFC8osVx0c6dOnT6l+/fqlOFEiolR66TOH2psskrDR09MreAITcL8f/ford+AdHYm2baM38+dzDYCICO6GFhzM3QAPHuRufD/9xJ33P/9MdOMGl/7XX1y58eMpyMeHaMkSolOniM6cIfr9d64xMXky0dOnXMPg0CGiO3e4H//DB67B4OdH9PffFLVoEdHz50Rz53LXysaNRBcvFjREPnwgWryYKCyMRlla0m+LFpV8CEogMzOTzE1N6cSqVUQHDnA3j40buaefs2e5uA0hIfR68WLu+t23j3sKunmTu+FERxPt2MFdkydPEvn7EwUGcg2KpCSivXuJ3ryhcDc37lhFRBAdPcpdv56enD948ICijx0j7Vq1KDU1tbhI0Ttyc+hKK4IyKDU1WyKrh7U1Hdm9m+j8ebpz4gQBIB6PR+rq6qSsqEgWFha0Zs0aunjx4lcdj29+2ZScnIwTJ04gLCyshFwRkv8NRFh2I5i31IW8nFx+Z6zzTz+hVatW+GPTJtRSVgZatChu3q4dKDBQcllgHR3ub175WgXrN+anGRnlJwnq1ePWaM97yVU4YLGWFnJycrDb0xM3btyQqFquli4EyeroYt0QJXVJOzk5YdWqVYhOTUXDhg0BNTXujV29utAEMHl2QdnAQHlAXh7nLwGAIkaOB0aO5/LEYoDHU4SGjiL+aAFACZgxFxg2FhAI5MDnA0TKaNfh8zrzGhoYPARIS5ODWAwYGvIBZQV07gpo6/FBxI0VT0riJt60acON1Pn1V+D8eeDiRWDXLqBXL2DcOC5a3q1btyAWi9GjR49i+ymID8ejZ4nQM+uCZtqSXemzZ89Gx44dsXLlSqhW80DQrq6umDlzJjRLXT1VA/WEqRB1dMhPMTExgbm5OU6cOIEJEyYUvHn880/u75EjAIC4R4/Q0NiYW5l1xQqgbl3A0pI7LzU1gWHDuL/Dh3Pnev36QE4ON57XyQlCABg6lFv6hcfjQvjp6ABjx3JlbGy4urW0uHiP6urcD2xgAGhpITMnB9DV5QJ2q6sDpqachrxo5SoqQLt2+JCRgYvBwXh9/vxXHzcVFRUs+v13bFu3DiPmz+e2qajI6ZST4/7yeODlvUjIzeXqzM3l1jcXibhhdyIRF981KwuQlwc+fQKEQiA2FsjOhnxqKndSa2hwJ7ZAwA3qNjIC4uOx8++/MdbRERoaGpICc+Lw7/MLuP1KD10FMcjgN0fhEs7z5uGPVavgOHAgmrVvD0V5eeSKRMjKygKPCAEBAfj48SMmT54MGxsbKCsrf/mAfPUtqAhubm40cuTI4hnCN+S9aCItOBpEkTc30uDWA2nXR8mH5JEjR5Kbm9sXt1/ZrREvLy/q3r178YyMszSx3WQ6EeZPtx+9oYwSbJ2dnWn58uXl1lCV9vHxRMeOcb0BRkZEublEkydPpk2bNkkaiT7Szb+caf72ixQacpSmjPizxG336tWLvLy8qkx/ZdinpqaSlpYWxcbGlpArpE8vH9K9kHd0fW57Gno4USL33Llz1Llz53LVXxZVZb9ixQqaMWNGiXmi9HcUdPsa3X9V/P2BQCCgBg0a0NOnT8ut4VvtmzRpUnL9aa/p4dHpZNLJhU7f9Kd/izRYhUIh1alThwICAvIf7Zs0aUILFy6kO3fu5D/eV3r0p5cvX8LCwqJIqhhv9s3B0sQZuDemHVQ+PoRQoy066Ei2aCwsLHD58mU0+MJMmpcvX+Lt27ffKq9Mex8fH7Rv375YuuCpHx7lpMM0SgVt4/8Hp7tzceznVhJlzM3NcfjwYXh7e5dLQ1lUtL2qKteYGTQIuHABuHPnGYYMGVLIQox3R2Zh3vNxuLbPHprvr6LzgGYlbtvY2BiXLl36YqxSWdv/osTExKB27dqoW7euZIYoGj5LlsOvrQumNziKyudYXgAAHIBJREFUn3y00PPnWhJFunTpgtDQ0C+eA7K+/3lcunQJv/zyS5FUIV6fXob/3TXG1Ll9IDq2HZ5TF2OETkEJBQUF2NjYYN++fSU+1VTFPnz48AGGhobFM9SN0EY5E3Lmw9DHpgOKhuLm8/lo0KAB9u/fj127dmHgwIHFz4P/wDc50sDAQMTExKBx48aSGeK38D4RDPO5tlADkH73Dt6ajEGrIrWoqKjg8uXL8PHx+UbZ5YeIsHz58iKpIkT5BUBvyj7M6d0YogfaCFtxAyjiSFVUVBAQEIDBgwdXneBKQFNTU3JcqPgdTh8OhMncw9yS0/Xt4ORYsq1YLMbevXuxb9++qpBaKRARjI2Ni6QWbQw8AL92F1jpSzYG1NTUkJGRUe3PAYA7D4p2bYhe7sC0xW8w+bIz9GIf4zLpo4tacVt1dXVs374drq6uVaRWktJv5EJEBr1E/XZtUWoJoRCdO3dGq1at8Pbt21IdduFA9qUFdv6mcaTm5uZo0qQJEhISJDMoE+kCY7RqrQQgEw+vB8HYsi38fS5KFEtISMDcuXMhFotL/Tx69OiL+WV9yrLftGlTcf1IxX3/dHToZgA+xIh//BQJOsXvUomJiRg+fHi5NUjbvl+/foiRiGQkhpDqwdBQMf//xJBnJZ4D8fHxOHLkSLXe/4iICIiLzlDKawz05xoDmXfv4K2pFdoUaQwkJSWhdu3a1Xr/8z5WVlZIT0+XOA/iLp9HWJPWUAt/gQR1c0xYNA6mJaywkpOTg3379kltHwwNDfHq1asSztAMPHuei1bttEt0ckKhEB8+fICtrS3Mzc1hbm6OzMxMnDp1CvHx8fn94ADy80uNjo9yzGzq3r075s+fj2XLlhXMdOA3weCxjbHtwj/w1niNoLR6UH5zBs9M+sPqsx0R4W/PvzFm4Rj4/OsDHo8HHjj7vO3wwENkYiTiXsdJpBUt86W8iE8RSItJK7WMdhttnNpwCps3by64q4mzkJZlgOYtFAHRa5z0TsCwxb2L7fsJzxOwG26Hx3GPJbddqA4eeIhMj4RigmKJeaXpLlwmOjMaWsla/8m+8PeP2R/xLv1dqfY9+vXA7m27C5bSkDPA6J9ssPT0WdxO1kBCzHtk1LHBuDaS+x8XF4fr169jk9smpOakllp/tigbWcKsgrwy9rdoHlXyjAcjIyPk5uYiKCgIJiYmXGLRxsC1YDTutg6PfC7CakDBueDt7Y1u3bpVqr6qwsTEBNeuXcPAgQM/p8hBSVUd+qa90MfeAvIAxIkheJbREm0bFryCFYlEuHXrFpydnaWiGwDGjBmDvXv3YseOHZIZgucIjm4M01Ylzzzz9vZGixYtYGBgkJ9mZWUFPz8/ODhwLxb79u2LDh06QF9fv8zH/m9aswngHGLLli2xe/duWEusDidGdmI8stTrQltJhLRP6VDR1sr32Ldu3cLQCUPRZUsXgFcwp5sg+Tf5UzI0a2nm1yVRhkjie0n2qSmpUNdU/6L9v//7F67LXTFs2LDP6kR4fWQRdmTZoEPCFQQaTMfysa1Q+L308+fP0dGqI5psagI5ebkSdeR9z8zMhIqqimReabpLsM/OzoaSstJX2xfNyxHkQFFRsVR7EhEyV2Ti9sXbEv3F4uwkxKUpQ09PtcSRC6tWr8KGKxvAG8n7Yv0ikQhyfDmJffrS/hb9DYvytTeQvDyxSAw+n/9FBy68KMQwvWHw2O/xuRYhwnbNxDbBAPTWeI2gG/8goml/dDXpj1n9G+ZrN2pmhJR+KVBqoVTytsFDbm4uFBUV//MNJO+vIEcAJWWlb7bPzsqGiqpKmcdLkCjA66WvEfs2tuDtd8pNrP7lChqPtofup7d4n1EHNiPtYFzIL/n4+MDpVyc0Xdm0VE1pqWn53QYS9X/lPqUkp6DW5xE6JdnnfMrBvZ/v4X3Me2hpcY0OQWY2kHIAo2YAW8/MhEEJTdKOlh3Bs+TB0MawWP1hnmEIPhQMAOAr8iEScLO4li1bhpUrVxbfGMrhSAHAzc0NR48exZUrV6CmVkIHShEyMjLQs2dPjB07FrNmzfpi2cDAwC82pcvia+y9vLywYsUK+Pn5QUenoBddkJyIHHVdaBRprwsEAgwaNAgdO3bEihUrKkSDtO23bt2Kw4cP4+rVq9DW1i5zm/7+/ujbty+uX7+OtmWExPpP+gVh8DmXjh+HdsgfppJn/8Ub5xfyAgMDYdberFj5wv9//PgRFm0tcPPmTZiamn6u+cuNgf3792P9X+tx0/8meDxesRtAXh1BQUFo265tqfWXdgPJ26eQZyFo3ab1N9s/D32Olq1aln68CqUtnLIQNp1tsHTJ0sI/Cj59TIFSbT2oFrmjCgQCWFlbodeYXrAfal+qpvDwcDRv3lyizv9yU42IiEDTpk2/2IjYsWQHREki+Jz1gbL4EqZ0OY3OM2rhhf4yrO+vW+zRfvX/VmO723a4uLrAuE1BHzmBkJOdg0UDFyH2TSyUlJUgzBVCt74uLNpZYMnvS9CltEUPv+rdfikIhUKaOHEi2draUnp6+hfLpqenk62tLU2cOJGEY8YQ9e9PtHZtQYFly7ipi5+HYQQEBHADlIcMIRo6lBtcT8QN6B0+nPvkTWmMiuLma44axQ02JuJmlYwZw3327y+o55dfiEaOJFq6lMRiMc2fP5/M2rShxETJ4S1FycnJoUH9+1N/fX3K6d2bmy1ExA02trfnZlDlzXYhIho8mFIsLIgKD5OaO5fIyopo9OiCtG3biLp04T7ZnwcNnztH1KEDpbVqxQ1iJuIGVrdrR9S6NTcgmfsBuDQbG24Ufh779xPt2UPhO3cWpJUyj1UsFpOLiwu1b9++zGPw8OFD0tPTo3Pnzn2xXB7/ZehL9nVnaj/6OBUepVJVw3/yZms9efKkzLJHjhyhH374gUJCQiqsflmwf/XqFTVs2JDcC59HpZCTk0MDBgygwYMHlzCb6Ns1fKu9QCCg4cOHU58+fSgzM45e3DpL3rciqeiALbFYTP/73/+oWbNm5O3tnT/sacSIEXT8+HF6+/YtWVpaEgDq168fHTly5Ksnq5Qr+hOfz8fevXvh5OSErl274pdffsHw4cOhVGjd75ycHHh5eWHDn3+ivYUF9u7dC/7Vq9zA43r1CjbWqxc3YLjwAG8zMyCvpZu3HKyhITeQGeAGGwPcoOYBAwry8+jTh4ssUjjylK0tkJIC6OmBx+Nhw4YN+OXDB3Q2N8cvv/2GMWPGSLSuhUIhvL29sWHDBtTR0sLJbdugqKBQMPhfVRWYO5f7/jm4AwDg55/x4flzaBbuR5s4kRt7VHgf+/blgmDweAX72KkTsH07osPD0SqvHkND4PBhbrBz3rAxHg84dIgbsFynTsE2Y2OBly+hXngJ3dGjuTD/gwZJBNvg8XjYuHEjpkz5FY0atcDs2U6YOXNmft8REeHhw4dwdXXFhQsX4OHhgX79+qHCEKcgOuw1gn3uQdGwP6KiU9C2oVbFbf8rGDp0KADA3t4e8+fPx5QpU6Cbd259JjIyEq6urvDy8sKVK1fQuqLWbSLiPmIxt2YWj8d9z8wELz2du07yrqePHwsG0uc9Pbx9yw1mV1QsOPdjYoDERCiHhwN5TwTv3wOvXnHbtrDgzsGkJODRI0AsRiNTU9y4cQM/2trizevX+NnFBfUKX5+fCQwMxOLFi6Guro7j48dDYfdubluTJnEFbt8GHjzg6sm7Lp49A7y8uLQpU7jJB3FxwJYtXH6/fkDXrtz3pUu5cubmXABtAHBz4/Tr6wMzZ3Jpp08Djx8DfD4UVq7E0aNH4TRwIIwaNIfTtGmYPssM6p81p6Wl4ciRI3DduhVKqqq48c8/qH/oEB5MnozO+/fD09MTvr6+SE9PBxFhzJgxmDVrFjp16oSgoKCv+hnLHUaPz+dj3759OH/+PFxdXTF//nxYWVnlDw/x8/ODqakp/rd2Lfr27csNt7G3L74hS8viae3acZ/CGBlJzGACwJ1URZb75PF4gGMJY3f69ClWbsORI7C/ehWurq5YvHgxrK2tUatWLSQnJ8Pf3x+NGjWCi4sLhgwZUny4hbIy0Lv4CynY2CBdXV0yInTeC43CGBtzn8Lo6QF6esiSl+dmpADcyVrUXk6Ou/kUZfFiAEBsYCDyR+q6uwNXr3IXXh7R0YCBAXg8Hvbs2YB585ywZ88OmJiYQF1dHSKRCAKBAJqampg9eza2b9/+VY///wnKRlrSa9y4L4SJswJSMwSfMzLx/uUbNDYzR60qiNw3dOhQNGrUCNu2bUOTJk3w448/ok6dOuDxeIiMjERwcDCmTJkCf39/6Ovrl7IvxDlCADh0CAY+PlxE/V27uLQ1a4BVqzhn+PEj1xDw8gJGjuTsrl0DfvyRW7GgfXu0IwI2bADyusEsLDjbUaOATZu4tDlzuEhe7dpxzgUA9u0Dzp6FYW5uwTVw5w6wdSvnrD08OKcbE8NtR04OWLQIxjY28Lt0CWsGDEDL7dvRZ8AAdOraFaqqqkhKSsKZY8fw/t07zFqwAC4uLlDcswd4/rxg1iHAzVZKSOC2WbjXkM/nnH3ecDser+DcLnxNqapyjrRQYwzKylx64TQFBS79c0g8BQUFHFq+HBHHjmHHnTto5+4OQW4u5Hg85GRnY0CbNnBduBC2EyeC93kWlVqh2UpExHXTEEFFRQVqamr/Ldzef2xpl0l4eDidOHGClixZQidOnKAXL15803ak9Vj0+vVr8vLyoj179tDatWspODi4yjVUib1YTNS5M9ctERdHIhE33ZuIi9YVGRlJAMjDw4NEoqLhWyqg/sKkn6Lx5rPoat506JxX5Of5J9l1GEt+OV+0rJj6ixAXF0d//fUXAaBFixbRyZMnKTMzs3QDLy8umIyNTUHa6dPcXPfTpwvS0tO56FwCQekhwypAf0XYJyUl0bZt22jkyJE0adIkcnFxoTNnznxVxKeK0lAee7FYTOnp6XTjxo0Sz9/Q0ND8R/s+ffrQ4cOHKS4u7pvrr/B17Zs3b47mzZujcePG5XpRIi2MjIxg9LnFGxgYWOYLlWoLjwf4+QFLlgAXL4I3dhx69uRWTVVWVs4/BrVr1670YM6CQD88b2YFi7wGh2IjdBvcHUbuoZVab2no6elh6NChWLBgARwdHdGmTZsvGyQlAQMHco+oeQwejISGDWFY+Br4iheysoK2tjacnZ3RtWvXankd83g8qKmpQUNDo9j5m5GRgYsXL+LatWuwsrL64uy8r6XCHSmjGiEvzy16B4AHLi5Eair3NFp1iPDSLwA6XRZAPfkuTj9oiCG9Dco2kyZEwObNXEARQ8PvMsDz94yamhrmzZtXodv8vteNYHw9oaEwFQdKJeq/sm5daCTewZGjb2HQRcadKMD1N+/f/90uM8L477AWKYPjyROcaX0UqrV8q7hiPoxnHMe+xHQo69bigkuIonHv9BW8+vgG10/fgf6wbjCSpTP11Svg5EkubiGDAeZIGXkMHQr1n+YCse8Ag6pe314eWrqFoivxG6LriMVY37iXbPbP/fWXtBUwZAz2aM/gUFGBo0kIPqlUtROtRhBxncgMRhGYI2Xkc/xGvSp+0VTNCAriJkswGEX4prn2hePzMb4fzh5UxMjavsjp1yM/VuO2bdvQNW/WSQ3i/fv3GDBgAI4fP56/HLHu6dNQCwlB9LJlUlbHkBaldjV902jXr0CmB6NXEw1VbW/e4D3l6ugREVFubi4BIF9f3yqrX5bsX79+TQDoWV6sAyIuvsKFC1VSvyzYy4KG6mLPXjYx8klUqAek5gLx8QVzuRkFdO4sbQUMGYX1kTLyUVXlIcbzvuQKrQwGo0yYI2XkExoKNOrdQjKIBKMAJyeg0GJ3gjAfnHqUJkVBDFmBOVJGPjdvAmlPIiUjRDEKiIkpFIEoB3fdV+JUScsFMWoczJEy8nn4EICrK3DqlLSlyCYWFoChIcQp0Qh9egU+9xRhqBOF6BRx2baM7xrmSBn5LFwIaNSSB3JzpS1FNlmzBmjZEpSdhqTXN3BfaII2CqnID6HKqLEwR8rIZ+5cIMp6HNC/v7SlyDT8uq3RnhIgtByOYbaWaKlXcBmJYp4iKJa1UGsazJEy8rl/H/hYzxRo3lzaUmSTadO4gCUQINDvOZpZWUBiqffsEBycPxd7QliLvqbBHCkjHzk5QJyeAWRnS1uKbPLgAbeUhugl/AJ00MVKHcl3T+NijAhAMvx9wlHH5IcSl7BmfN8wR8rIx8ICaLr7Fy7WJqM4BgafY5AqQ7euBhLvHMHRtwboYsDD+5v/IKF9P7RS5klbJUMKsJlNjHy2bwcwQ1ywQBlDkgsX8r/OOL4PienK0K2lBAiDceFJOhQSfPBP0Bu8zryOUIsSFnhkfLewK4aRz969wHuT3tzy0IwvI6/FOVEAkG+HMS7T0N9UB5mZmcgViMHjs0urJsFapIx8mjQB+C0HAXUBCIXSliN7/PknMHEiULduidnKTeyw8OQTLPz8P4uRVnNgt01GPra2pfoIBgAcOMCtGMpgFIHFI2XkM3NmExzQdoZy99ZIsLVl8UiLxCNtNWwYXq1fj2xjYymrY0gLFo+0GmqoantTU6L4PuOIDh1i8UhLikeakUEkElVJ/bJgLwsaqos96yNl5JOdDeS2MgH09aUtRTZRVZW2AoaMwhwpIx8nJ0BhwnygNtjLppK4fBlo25Ytw8woBnvZxMhn/nywxe++xPr1QEiItFUwZBDmSBn5DBgAZK1YB/j5SVuKbKKkBOTkSFsFQwZhjpSRj7s7oPQsAPj4UdpSZJO//gJq4AgGRtmwPlJGPikpwA86OuylSmm0bCltBQwZhbVIGQAAsRho0wZI+uMP/PnsGSwsLKCqqorx48ejffv2WL9+PRITE6Uts9J5/PgxpkyZgr59+0JdXR3Dhw/H+PHj8fDhQyAiAsjIkLZEhgzCHCkDAJCZKYKy8lw0bdoEYWFh2L59O8LDwxEYGIgtW7YgNDQUTZo0gYuLC0QikbTlVjihoaGwtLTE4MGD0bRpU3h4eODJkyc4duwY2rVrh9GjR6OjpSUes2VYGCXAHu0ZEIlEmDRpPMzM4nD2bAT09PQk8g0MDGBtbY24uDiMGTMGEydOxMGDB8Hnfx+RN0NDQ9GzZ08sX74cU6ZMgby85GVhZmYGFxcXHDlyBA7z5sG3TRu0Z4FdGIVgLVIGpk2bhk+f4nD1qg/nRMVJiLh3Db5+EUgvVK5OnTrw8fHBhw8fMGPGDKnprUj+/fdf9OzZExs3bsT06dPznag4KQL3rvniTgT3KM/n8zFhwgTs2rsXDg4OeP78uTRlM2QM5khrOC9evMD58+fh7X0WKioqXKI4Fxn3N2PWVn8UXTRDVVUV3t7e8Pb2RmRkZJXrrWjWr18PJycnjB49WiJdnJuBu5tmYVug5MSEQYMGYd68eVi7dm1VymTIOMyR1nB27NgBJycnqKmpFSTK60Ih4xMad7OCVgk2ampqmDx5Mnbs2FFlOiuDT58+wdPTE7NmzSqWJ68rh/SkZrDqplEsb9q0abhw4QJiY2OrQiajGsD6SGswYrEYhw4dwrNnz4pkxOPOQyE6r2oAOXE6ogJCkNO8I5prFdx3Z82ahdatW8PR0RE8XsnLa4SFhZVLX2Xbnzx5Ej179kS9evWK5Yk/+OEBOmP9D8XbGtra2hg6dCg8PDzwyy+/lEsj4/uAOdIaTGpqKogIBgYGkhmZd3H3nSnG1H8Cr4MvkRmxG4dUtuL68nb5RRo2bAiBQIAOHTpUseqKQ15eHqtXry4xL+3uXXxs74QWpVwhJiYmePHiRSWqY1QnWDzSGkxSUhJGjhyJpCLBigW3fobZwmzMmD0Gg8bYQO99ON5rNoOxlmTrrFatWti9eze0tErqAJB9du3aBSsrK7i4uBTJycG12Z2x1/om/h5Z8r7t3r0bvr6+WLJkSeULZcgMLB5pNdRQ2fY5OTmkoKBAWVlZhVKFFLrakjo6baY/5oynucdfkbAE26ysLJKXl6fc3Nxvrr8sKtt+xYoVtGjRouIZuU9pWWd72v629Nijq1evpgULFpSr/rKQtr0saKgu9uxlUw1GUVER3bt3h5eXV0Hi5/7RXjPmYMEEfdw9cQup731x7oFksI7jx4+jZ8+excZcVid69+4NT0/PYhMMxPH38AidYJnhi3NPBMXsiAjHjx+Hg4NDVUllyDjV9ypgVAhz5szB6tWrMW7cOC5B8Aj+Hy0wuo085BKaoYVyNC75KMBonFK+DRFh+x9/YHVuLnD7NmBtDaSnAzt2AAoKQLduQF7f6dGjgEgEGBtz6QBw9y6QnAxoaRWkPXnCTcEUiYBRowA5OShGRQHBwdzy0P36Abq63JpJN24AfD5gZgYYGnKxU0+eBHJzgebNgY4dAQA6Z89yMUT19YG8/du/HwgMBIRCdNy5Ezo6Orh48SL69u1bcFAUa+OHei9x71wczGcrFjtmt27dglgsxo8//liRPwWjGsMcaQ3HwcEB8+bNg5ubO2bPngko22PzlR7QUALQYAL270pEuqIuahX4Ubi7uSFDJEJvT0/OQQJceLm4OM4RfvpUUPjePSAtjXNueU7z/HnOQdavX5AWGMg5PT4fGDECkJODQmIicP8+t01ra86RJiZyzlksBtTVOUdKBJw5wzlxPj/fkconJ3NOtnCQ6rp1gVatgHr1wOPx8PPPP2PRokXo0qULdHR0AAByusOx73hPfBJqQltZ8nilpKRgwYIF+Pnnn0sdrcCoeTBHWsPh8/nw9fVFt24/Qk5ODjNnToeGVkErTF5DF7UKlXd3d8efGzbgxo0bkCu8CJyuLhdmrihubsXT/vijeJqTE/cpRIa5OTBtmmS5pk2B06cl0xQUgBMnim0ybuJEGBR9OVC45QnA0dERwcHBsLOzw9WrV/OdKZRqQVtJ0jQlJQW9e/dGx44dMa2oLkaNhvWR1nBCQ0NhbGyMO3duYN26tRg0aBCuXbsGKjSYg4hw9epVDBw4EOvWrcONGzdg/J2spMnj8fDnn3/Czs4O5ubm2LJlC5KTkyXKpKWlwc3NDRYWFjAzM4ObmxtrjTIkYC3SGs6HDx/g5uaGKVPc4Oz8HGFhP2HChAlQUFCAvr4++Hw+oqKioKmpiTlz5uDYsWOSs6C+A/Kc6aBBg+Dq6oqVK1fCzMwM6urqyMjIwJMnT9CjRw/s3bsX1tbWzIkyisEcaQ3HysoKPXv2xJMncRCJRuDRo/24cOECDA0N4efnh+bNm6NOnTpo1arVd+1AeDweunbtiq5duyI2NhYhISF4/PgxzMzM0KpVKzRo0EDaEhkyDHOkNRwlJSVYWFjgwYNTALhYmz179oSCggKys7NLH4D8HVOvXj3Uq1cP2traNXL/Gf8d1kfKwOTJk6GgwL1gsrOzg4KCgpQVMRjVC+ZIGXBwcACfLwdVVVWMGDFC2nIYjGoHc6QMGBkZQUOjFjIzM9lsHQbjG2COlAEAMDLihjPp6+tLWQmDUf1gL5sYAIA1a1bgypUr0pbBYFRLvimMHoPBYDAKYI/2DAaDUU6YI2UwGIxywhwpg8FglBPmSBkMBqOcMEfKYDAY5YQ5UgaDwSgnzJEyGAxGOWGOlMFgMMoJc6QMBoNRTpgjZTAYjHLCHCmDwWCUE+ZIGQwGo5wwR8pgMBjlhDlSBoPBKCfMkTIYDEY5YY6UwWAwyglzpAwGg1FOmCNlMBiMcsIcKYPBYJST/wMEQnRpFeMrLAAAAABJRU5ErkJggg==)\n",
        "\n",
        "In the image above, we represent a road network. With the english letters a,b,c,d,e,f,g,h,i,j,k,l we denote the intersections. The black lines are the road segments between intersections.\n",
        "\n",
        "Given a road network like this, the concept of trajectory splitting is the following:\n",
        "\n",
        "**Each trajectory of a vehicle present in the dataset is broken into smaller pieces (sub-tracks) based on the following condition: 'Each sub-track shall contain consecutive position records for a single vehicle, which shall be separated in time by a maximum of two n_sec time units. The n_sec is defined by the user.\"**"
      ],
      "metadata": {
        "id": "cIh5VanZHiPJ"
      },
      "id": "cIh5VanZHiPJ"
    },
    {
      "cell_type": "code",
      "execution_count": 15,
      "id": "691c47de",
      "metadata": {
        "id": "691c47de",
        "outputId": "b2e1394c-19ed-4e57-f52b-7ab212ed9c6a",
        "colab": {
          "base_uri": "https://localhost:8080/"
        }
      },
      "outputs": [
        {
          "output_type": "stream",
          "name": "stdout",
          "text": [
            "time: 35 ms (started: 2023-12-10 18:08:07 +00:00)\n"
          ]
        }
      ],
      "source": [
        "# Insert a new column\n",
        "all_data.insert(1,'traj_id',-1)"
      ]
    },
    {
      "cell_type": "code",
      "execution_count": null,
      "id": "07cfdfa8",
      "metadata": {
        "id": "07cfdfa8",
        "colab": {
          "base_uri": "https://localhost:8080/"
        },
        "outputId": "1324f497-3378-448f-c2f5-90b9fcaa3569"
      },
      "outputs": [
        {
          "output_type": "stream",
          "name": "stdout",
          "text": [
            "time: 30min 51s (started: 2023-11-19 20:15:02 +00:00)\n"
          ]
        }
      ],
      "source": [
        "'''\n",
        "Each taxi_id contains GPS data of one trajectory\n",
        "\n",
        "If the time gap between two GPS points is lower than n_sec seconds, (condition 1)\n",
        "and these GPS points belong to the same taxi_id  (condition 2)\n",
        "then asign the same traj_id number. (result)\n",
        "\n",
        "If the time gap between two GPS points is higher than n_sec seconds, (condition 1)\n",
        "and these GPS points belong to the same taxi_id  (condition 2)\n",
        "then asign different traj_id number to each of these GPS points. (result)\n",
        "\n",
        "If the GPS points belong to the same taxi_id  (condition)\n",
        "then asign different traj_id number to each of these GPS points. (result)\n",
        "\n",
        "'''\n",
        "\n",
        "# Max number of seconds between GPS records of each traectory\n",
        "n_sec = 90\n",
        "traj_id = 0\n",
        "\n",
        "for i in range(all_data.shape[0] -1):\n",
        "\n",
        "    if (all_data['taxi_id'][i+1] == all_data['taxi_id'][i]): # Belong to the same taxi_id\n",
        "\n",
        "        if (((all_data['Date Time'][i+1])-(all_data['Date Time'][i])).total_seconds() <= n_sec): # Tme interval less-equal than n_sec\n",
        "            all_data.at[i,'traj_id'] = traj_id\n",
        "            all_data.at[i+1,'traj_id'] = traj_id\n",
        "\n",
        "        else: # Time interval higher than n_sec\n",
        "            all_data.at[i,'traj_id'] = traj_id\n",
        "            traj_id +=1\n",
        "            all_data.at[i+1,'traj_id'] = traj_id\n",
        "\n",
        "    else: # Not belong to the same taxi_id\n",
        "        all_data.at[i,'traj_id'] = traj_id\n",
        "        traj_id  = 0\n",
        "        all_data.at[i+1,'traj_id'] = traj_id"
      ]
    },
    {
      "cell_type": "code",
      "source": [
        "# Print dataframe\n",
        "all_data"
      ],
      "metadata": {
        "colab": {
          "base_uri": "https://localhost:8080/",
          "height": 441
        },
        "id": "ME3oxGOmA9l5",
        "outputId": "38996aa7-92fd-4c8a-b77f-96497a0a1094"
      },
      "id": "ME3oxGOmA9l5",
      "execution_count": null,
      "outputs": [
        {
          "output_type": "execute_result",
          "data": {
            "text/plain": [
              "         Taxi ID  Traj ID  Latitude  Longitude           Date Time\n",
              "0              0        0  37.73515 -122.40484 2008-05-17 10:00:29\n",
              "1              0        0  37.72245 -122.40081 2008-05-17 10:01:14\n",
              "2              0        0  37.70973 -122.39541 2008-05-17 10:01:56\n",
              "3              0        0  37.69660 -122.39249 2008-05-17 10:02:33\n",
              "4              0        0  37.68318 -122.38942 2008-05-17 10:03:11\n",
              "...          ...      ...       ...        ...                 ...\n",
              "11224276     536      533  37.74332 -122.39649 2008-06-10 05:27:46\n",
              "11224277     536      533  37.74996 -122.39307 2008-06-10 05:28:46\n",
              "11224278     536      533  37.75201 -122.39383 2008-06-10 05:29:47\n",
              "11224279     536      533  37.75161 -122.39392 2008-06-10 05:30:47\n",
              "11224280     536      533  37.75162 -122.39393 2008-06-10 05:31:48\n",
              "\n",
              "[11224281 rows x 5 columns]"
            ],
            "text/html": [
              "\n",
              "  <div id=\"df-f3890222-2043-4f53-8c12-66a0c8f19422\" class=\"colab-df-container\">\n",
              "    <div>\n",
              "<style scoped>\n",
              "    .dataframe tbody tr th:only-of-type {\n",
              "        vertical-align: middle;\n",
              "    }\n",
              "\n",
              "    .dataframe tbody tr th {\n",
              "        vertical-align: top;\n",
              "    }\n",
              "\n",
              "    .dataframe thead th {\n",
              "        text-align: right;\n",
              "    }\n",
              "</style>\n",
              "<table border=\"1\" class=\"dataframe\">\n",
              "  <thead>\n",
              "    <tr style=\"text-align: right;\">\n",
              "      <th></th>\n",
              "      <th>Taxi ID</th>\n",
              "      <th>Traj ID</th>\n",
              "      <th>Latitude</th>\n",
              "      <th>Longitude</th>\n",
              "      <th>Date Time</th>\n",
              "    </tr>\n",
              "  </thead>\n",
              "  <tbody>\n",
              "    <tr>\n",
              "      <th>0</th>\n",
              "      <td>0</td>\n",
              "      <td>0</td>\n",
              "      <td>37.73515</td>\n",
              "      <td>-122.40484</td>\n",
              "      <td>2008-05-17 10:00:29</td>\n",
              "    </tr>\n",
              "    <tr>\n",
              "      <th>1</th>\n",
              "      <td>0</td>\n",
              "      <td>0</td>\n",
              "      <td>37.72245</td>\n",
              "      <td>-122.40081</td>\n",
              "      <td>2008-05-17 10:01:14</td>\n",
              "    </tr>\n",
              "    <tr>\n",
              "      <th>2</th>\n",
              "      <td>0</td>\n",
              "      <td>0</td>\n",
              "      <td>37.70973</td>\n",
              "      <td>-122.39541</td>\n",
              "      <td>2008-05-17 10:01:56</td>\n",
              "    </tr>\n",
              "    <tr>\n",
              "      <th>3</th>\n",
              "      <td>0</td>\n",
              "      <td>0</td>\n",
              "      <td>37.69660</td>\n",
              "      <td>-122.39249</td>\n",
              "      <td>2008-05-17 10:02:33</td>\n",
              "    </tr>\n",
              "    <tr>\n",
              "      <th>4</th>\n",
              "      <td>0</td>\n",
              "      <td>0</td>\n",
              "      <td>37.68318</td>\n",
              "      <td>-122.38942</td>\n",
              "      <td>2008-05-17 10:03:11</td>\n",
              "    </tr>\n",
              "    <tr>\n",
              "      <th>...</th>\n",
              "      <td>...</td>\n",
              "      <td>...</td>\n",
              "      <td>...</td>\n",
              "      <td>...</td>\n",
              "      <td>...</td>\n",
              "    </tr>\n",
              "    <tr>\n",
              "      <th>11224276</th>\n",
              "      <td>536</td>\n",
              "      <td>533</td>\n",
              "      <td>37.74332</td>\n",
              "      <td>-122.39649</td>\n",
              "      <td>2008-06-10 05:27:46</td>\n",
              "    </tr>\n",
              "    <tr>\n",
              "      <th>11224277</th>\n",
              "      <td>536</td>\n",
              "      <td>533</td>\n",
              "      <td>37.74996</td>\n",
              "      <td>-122.39307</td>\n",
              "      <td>2008-06-10 05:28:46</td>\n",
              "    </tr>\n",
              "    <tr>\n",
              "      <th>11224278</th>\n",
              "      <td>536</td>\n",
              "      <td>533</td>\n",
              "      <td>37.75201</td>\n",
              "      <td>-122.39383</td>\n",
              "      <td>2008-06-10 05:29:47</td>\n",
              "    </tr>\n",
              "    <tr>\n",
              "      <th>11224279</th>\n",
              "      <td>536</td>\n",
              "      <td>533</td>\n",
              "      <td>37.75161</td>\n",
              "      <td>-122.39392</td>\n",
              "      <td>2008-06-10 05:30:47</td>\n",
              "    </tr>\n",
              "    <tr>\n",
              "      <th>11224280</th>\n",
              "      <td>536</td>\n",
              "      <td>533</td>\n",
              "      <td>37.75162</td>\n",
              "      <td>-122.39393</td>\n",
              "      <td>2008-06-10 05:31:48</td>\n",
              "    </tr>\n",
              "  </tbody>\n",
              "</table>\n",
              "<p>11224281 rows × 5 columns</p>\n",
              "</div>\n",
              "    <div class=\"colab-df-buttons\">\n",
              "\n",
              "  <div class=\"colab-df-container\">\n",
              "    <button class=\"colab-df-convert\" onclick=\"convertToInteractive('df-f3890222-2043-4f53-8c12-66a0c8f19422')\"\n",
              "            title=\"Convert this dataframe to an interactive table.\"\n",
              "            style=\"display:none;\">\n",
              "\n",
              "  <svg xmlns=\"http://www.w3.org/2000/svg\" height=\"24px\" viewBox=\"0 -960 960 960\">\n",
              "    <path d=\"M120-120v-720h720v720H120Zm60-500h600v-160H180v160Zm220 220h160v-160H400v160Zm0 220h160v-160H400v160ZM180-400h160v-160H180v160Zm440 0h160v-160H620v160ZM180-180h160v-160H180v160Zm440 0h160v-160H620v160Z\"/>\n",
              "  </svg>\n",
              "    </button>\n",
              "\n",
              "  <style>\n",
              "    .colab-df-container {\n",
              "      display:flex;\n",
              "      gap: 12px;\n",
              "    }\n",
              "\n",
              "    .colab-df-convert {\n",
              "      background-color: #E8F0FE;\n",
              "      border: none;\n",
              "      border-radius: 50%;\n",
              "      cursor: pointer;\n",
              "      display: none;\n",
              "      fill: #1967D2;\n",
              "      height: 32px;\n",
              "      padding: 0 0 0 0;\n",
              "      width: 32px;\n",
              "    }\n",
              "\n",
              "    .colab-df-convert:hover {\n",
              "      background-color: #E2EBFA;\n",
              "      box-shadow: 0px 1px 2px rgba(60, 64, 67, 0.3), 0px 1px 3px 1px rgba(60, 64, 67, 0.15);\n",
              "      fill: #174EA6;\n",
              "    }\n",
              "\n",
              "    .colab-df-buttons div {\n",
              "      margin-bottom: 4px;\n",
              "    }\n",
              "\n",
              "    [theme=dark] .colab-df-convert {\n",
              "      background-color: #3B4455;\n",
              "      fill: #D2E3FC;\n",
              "    }\n",
              "\n",
              "    [theme=dark] .colab-df-convert:hover {\n",
              "      background-color: #434B5C;\n",
              "      box-shadow: 0px 1px 3px 1px rgba(0, 0, 0, 0.15);\n",
              "      filter: drop-shadow(0px 1px 2px rgba(0, 0, 0, 0.3));\n",
              "      fill: #FFFFFF;\n",
              "    }\n",
              "  </style>\n",
              "\n",
              "    <script>\n",
              "      const buttonEl =\n",
              "        document.querySelector('#df-f3890222-2043-4f53-8c12-66a0c8f19422 button.colab-df-convert');\n",
              "      buttonEl.style.display =\n",
              "        google.colab.kernel.accessAllowed ? 'block' : 'none';\n",
              "\n",
              "      async function convertToInteractive(key) {\n",
              "        const element = document.querySelector('#df-f3890222-2043-4f53-8c12-66a0c8f19422');\n",
              "        const dataTable =\n",
              "          await google.colab.kernel.invokeFunction('convertToInteractive',\n",
              "                                                    [key], {});\n",
              "        if (!dataTable) return;\n",
              "\n",
              "        const docLinkHtml = 'Like what you see? Visit the ' +\n",
              "          '<a target=\"_blank\" href=https://colab.research.google.com/notebooks/data_table.ipynb>data table notebook</a>'\n",
              "          + ' to learn more about interactive tables.';\n",
              "        element.innerHTML = '';\n",
              "        dataTable['output_type'] = 'display_data';\n",
              "        await google.colab.output.renderOutput(dataTable, element);\n",
              "        const docLink = document.createElement('div');\n",
              "        docLink.innerHTML = docLinkHtml;\n",
              "        element.appendChild(docLink);\n",
              "      }\n",
              "    </script>\n",
              "  </div>\n",
              "\n",
              "\n",
              "<div id=\"df-73be597c-354c-48cc-9c0d-a64a360e0266\">\n",
              "  <button class=\"colab-df-quickchart\" onclick=\"quickchart('df-73be597c-354c-48cc-9c0d-a64a360e0266')\"\n",
              "            title=\"Suggest charts\"\n",
              "            style=\"display:none;\">\n",
              "\n",
              "<svg xmlns=\"http://www.w3.org/2000/svg\" height=\"24px\"viewBox=\"0 0 24 24\"\n",
              "     width=\"24px\">\n",
              "    <g>\n",
              "        <path d=\"M19 3H5c-1.1 0-2 .9-2 2v14c0 1.1.9 2 2 2h14c1.1 0 2-.9 2-2V5c0-1.1-.9-2-2-2zM9 17H7v-7h2v7zm4 0h-2V7h2v10zm4 0h-2v-4h2v4z\"/>\n",
              "    </g>\n",
              "</svg>\n",
              "  </button>\n",
              "\n",
              "<style>\n",
              "  .colab-df-quickchart {\n",
              "      --bg-color: #E8F0FE;\n",
              "      --fill-color: #1967D2;\n",
              "      --hover-bg-color: #E2EBFA;\n",
              "      --hover-fill-color: #174EA6;\n",
              "      --disabled-fill-color: #AAA;\n",
              "      --disabled-bg-color: #DDD;\n",
              "  }\n",
              "\n",
              "  [theme=dark] .colab-df-quickchart {\n",
              "      --bg-color: #3B4455;\n",
              "      --fill-color: #D2E3FC;\n",
              "      --hover-bg-color: #434B5C;\n",
              "      --hover-fill-color: #FFFFFF;\n",
              "      --disabled-bg-color: #3B4455;\n",
              "      --disabled-fill-color: #666;\n",
              "  }\n",
              "\n",
              "  .colab-df-quickchart {\n",
              "    background-color: var(--bg-color);\n",
              "    border: none;\n",
              "    border-radius: 50%;\n",
              "    cursor: pointer;\n",
              "    display: none;\n",
              "    fill: var(--fill-color);\n",
              "    height: 32px;\n",
              "    padding: 0;\n",
              "    width: 32px;\n",
              "  }\n",
              "\n",
              "  .colab-df-quickchart:hover {\n",
              "    background-color: var(--hover-bg-color);\n",
              "    box-shadow: 0 1px 2px rgba(60, 64, 67, 0.3), 0 1px 3px 1px rgba(60, 64, 67, 0.15);\n",
              "    fill: var(--button-hover-fill-color);\n",
              "  }\n",
              "\n",
              "  .colab-df-quickchart-complete:disabled,\n",
              "  .colab-df-quickchart-complete:disabled:hover {\n",
              "    background-color: var(--disabled-bg-color);\n",
              "    fill: var(--disabled-fill-color);\n",
              "    box-shadow: none;\n",
              "  }\n",
              "\n",
              "  .colab-df-spinner {\n",
              "    border: 2px solid var(--fill-color);\n",
              "    border-color: transparent;\n",
              "    border-bottom-color: var(--fill-color);\n",
              "    animation:\n",
              "      spin 1s steps(1) infinite;\n",
              "  }\n",
              "\n",
              "  @keyframes spin {\n",
              "    0% {\n",
              "      border-color: transparent;\n",
              "      border-bottom-color: var(--fill-color);\n",
              "      border-left-color: var(--fill-color);\n",
              "    }\n",
              "    20% {\n",
              "      border-color: transparent;\n",
              "      border-left-color: var(--fill-color);\n",
              "      border-top-color: var(--fill-color);\n",
              "    }\n",
              "    30% {\n",
              "      border-color: transparent;\n",
              "      border-left-color: var(--fill-color);\n",
              "      border-top-color: var(--fill-color);\n",
              "      border-right-color: var(--fill-color);\n",
              "    }\n",
              "    40% {\n",
              "      border-color: transparent;\n",
              "      border-right-color: var(--fill-color);\n",
              "      border-top-color: var(--fill-color);\n",
              "    }\n",
              "    60% {\n",
              "      border-color: transparent;\n",
              "      border-right-color: var(--fill-color);\n",
              "    }\n",
              "    80% {\n",
              "      border-color: transparent;\n",
              "      border-right-color: var(--fill-color);\n",
              "      border-bottom-color: var(--fill-color);\n",
              "    }\n",
              "    90% {\n",
              "      border-color: transparent;\n",
              "      border-bottom-color: var(--fill-color);\n",
              "    }\n",
              "  }\n",
              "</style>\n",
              "\n",
              "  <script>\n",
              "    async function quickchart(key) {\n",
              "      const quickchartButtonEl =\n",
              "        document.querySelector('#' + key + ' button');\n",
              "      quickchartButtonEl.disabled = true;  // To prevent multiple clicks.\n",
              "      quickchartButtonEl.classList.add('colab-df-spinner');\n",
              "      try {\n",
              "        const charts = await google.colab.kernel.invokeFunction(\n",
              "            'suggestCharts', [key], {});\n",
              "      } catch (error) {\n",
              "        console.error('Error during call to suggestCharts:', error);\n",
              "      }\n",
              "      quickchartButtonEl.classList.remove('colab-df-spinner');\n",
              "      quickchartButtonEl.classList.add('colab-df-quickchart-complete');\n",
              "    }\n",
              "    (() => {\n",
              "      let quickchartButtonEl =\n",
              "        document.querySelector('#df-73be597c-354c-48cc-9c0d-a64a360e0266 button');\n",
              "      quickchartButtonEl.style.display =\n",
              "        google.colab.kernel.accessAllowed ? 'block' : 'none';\n",
              "    })();\n",
              "  </script>\n",
              "</div>\n",
              "    </div>\n",
              "  </div>\n"
            ]
          },
          "metadata": {},
          "execution_count": 14
        },
        {
          "output_type": "stream",
          "name": "stdout",
          "text": [
            "time: 23.1 ms (started: 2023-11-19 20:45:53 +00:00)\n"
          ]
        }
      ]
    },
    {
      "cell_type": "code",
      "source": [
        "# Save results\n",
        "SAVE_PATH = '/content/drive/MyDrive/Paper/Files/splitted_data.csv'\n",
        "all_data.to_csv(SAVE_PATH,index=False)"
      ],
      "metadata": {
        "colab": {
          "base_uri": "https://localhost:8080/"
        },
        "id": "egyTmsgn4Zzx",
        "outputId": "e7ada93a-3063-4273-b305-620017fa9702"
      },
      "id": "egyTmsgn4Zzx",
      "execution_count": null,
      "outputs": [
        {
          "output_type": "stream",
          "name": "stdout",
          "text": [
            "time: 1min 21s (started: 2023-11-19 20:45:53 +00:00)\n"
          ]
        }
      ]
    },
    {
      "cell_type": "markdown",
      "source": [
        "The file that was created, will be used in the next code file.\n",
        "The next code file has the title of 'Map Matching'"
      ],
      "metadata": {
        "id": "Y6cWR76xI517"
      },
      "id": "Y6cWR76xI517"
    }
  ],
  "metadata": {
    "kernelspec": {
      "display_name": "Python 3",
      "name": "python3"
    },
    "language_info": {
      "name": "python"
    },
    "colab": {
      "provenance": [],
      "gpuType": "T4",
      "include_colab_link": true
    },
    "accelerator": "GPU"
  },
  "nbformat": 4,
  "nbformat_minor": 5
}