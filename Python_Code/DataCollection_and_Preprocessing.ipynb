{
  "cells": [
    {
      "cell_type": "markdown",
      "metadata": {
        "id": "view-in-github",
        "colab_type": "text"
      },
      "source": [
        "<a href=\"https://colab.research.google.com/github/stratoskar/Path-Based-Traffic-Flow-Prediction/blob/main/Python_Code/DataCollection_and_Preprocessing.ipynb\" target=\"_parent\"><img src=\"https://colab.research.google.com/assets/colab-badge.svg\" alt=\"Open In Colab\"/></a>"
      ]
    },
    {
      "cell_type": "markdown",
      "id": "e5e79ea0",
      "metadata": {
        "id": "e5e79ea0"
      },
      "source": [
        "### Data Collection\n",
        "\n",
        "The data used for this research comes from a project called the cabspotting project. Specifically, this dataset contains about 11.000.000 GPS data of various taxis (Yellow Cab Vehicles) in the San Francisco, California area. The whole data sampling occurred in May 2008.\n",
        "\n",
        "<b>You can read more about the dataset in the following link: </b>https://stamen.com/work/cabspotting/"
      ]
    },
    {
      "cell_type": "code",
      "execution_count": 1,
      "id": "b028b0fe",
      "metadata": {
        "id": "b028b0fe",
        "outputId": "fddc6e32-b403-4c7f-dda9-62e822f44189",
        "colab": {
          "base_uri": "https://localhost:8080/"
        }
      },
      "outputs": [
        {
          "output_type": "stream",
          "name": "stdout",
          "text": [
            "Collecting ipython-autotime\n",
            "  Downloading ipython_autotime-0.3.2-py2.py3-none-any.whl (7.0 kB)\n",
            "Requirement already satisfied: ipython in /usr/local/lib/python3.10/dist-packages (from ipython-autotime) (7.34.0)\n",
            "Requirement already satisfied: setuptools>=18.5 in /usr/local/lib/python3.10/dist-packages (from ipython->ipython-autotime) (67.7.2)\n",
            "Collecting jedi>=0.16 (from ipython->ipython-autotime)\n",
            "  Downloading jedi-0.19.1-py2.py3-none-any.whl (1.6 MB)\n",
            "\u001b[2K     \u001b[90m━━━━━━━━━━━━━━━━━━━━━━━━━━━━━━━━━━━━━━━━\u001b[0m \u001b[32m1.6/1.6 MB\u001b[0m \u001b[31m13.0 MB/s\u001b[0m eta \u001b[36m0:00:00\u001b[0m\n",
            "\u001b[?25hRequirement already satisfied: decorator in /usr/local/lib/python3.10/dist-packages (from ipython->ipython-autotime) (4.4.2)\n",
            "Requirement already satisfied: pickleshare in /usr/local/lib/python3.10/dist-packages (from ipython->ipython-autotime) (0.7.5)\n",
            "Requirement already satisfied: traitlets>=4.2 in /usr/local/lib/python3.10/dist-packages (from ipython->ipython-autotime) (5.7.1)\n",
            "Requirement already satisfied: prompt-toolkit!=3.0.0,!=3.0.1,<3.1.0,>=2.0.0 in /usr/local/lib/python3.10/dist-packages (from ipython->ipython-autotime) (3.0.41)\n",
            "Requirement already satisfied: pygments in /usr/local/lib/python3.10/dist-packages (from ipython->ipython-autotime) (2.16.1)\n",
            "Requirement already satisfied: backcall in /usr/local/lib/python3.10/dist-packages (from ipython->ipython-autotime) (0.2.0)\n",
            "Requirement already satisfied: matplotlib-inline in /usr/local/lib/python3.10/dist-packages (from ipython->ipython-autotime) (0.1.6)\n",
            "Requirement already satisfied: pexpect>4.3 in /usr/local/lib/python3.10/dist-packages (from ipython->ipython-autotime) (4.8.0)\n",
            "Requirement already satisfied: parso<0.9.0,>=0.8.3 in /usr/local/lib/python3.10/dist-packages (from jedi>=0.16->ipython->ipython-autotime) (0.8.3)\n",
            "Requirement already satisfied: ptyprocess>=0.5 in /usr/local/lib/python3.10/dist-packages (from pexpect>4.3->ipython->ipython-autotime) (0.7.0)\n",
            "Requirement already satisfied: wcwidth in /usr/local/lib/python3.10/dist-packages (from prompt-toolkit!=3.0.0,!=3.0.1,<3.1.0,>=2.0.0->ipython->ipython-autotime) (0.2.10)\n",
            "Installing collected packages: jedi, ipython-autotime\n",
            "Successfully installed ipython-autotime-0.3.2 jedi-0.19.1\n",
            "time: 443 µs (started: 2023-11-19 20:11:41 +00:00)\n"
          ]
        }
      ],
      "source": [
        "!pip install ipython-autotime\n",
        "\n",
        "# Measure execution time of each cell\n",
        "%load_ext autotime"
      ]
    },
    {
      "cell_type": "code",
      "execution_count": 2,
      "id": "b8e615b6",
      "metadata": {
        "id": "b8e615b6",
        "outputId": "47bc352c-c017-4c34-c3b2-cdc6c7f3354e",
        "colab": {
          "base_uri": "https://localhost:8080/"
        }
      },
      "outputs": [
        {
          "output_type": "stream",
          "name": "stdout",
          "text": [
            "time: 421 ms (started: 2023-11-19 20:11:41 +00:00)\n"
          ]
        }
      ],
      "source": [
        "# Import basic libraries\n",
        "import os\n",
        "\n",
        "import numpy as np\n",
        "import pandas as pd\n",
        "\n",
        "from datetime import datetime, timedelta"
      ]
    },
    {
      "cell_type": "markdown",
      "id": "b98c6d73",
      "metadata": {
        "id": "b98c6d73"
      },
      "source": [
        "##### Combine all the files of the dataset in one dataframe"
      ]
    },
    {
      "cell_type": "code",
      "execution_count": 3,
      "id": "38d6e90c",
      "metadata": {
        "id": "38d6e90c",
        "colab": {
          "base_uri": "https://localhost:8080/"
        },
        "outputId": "6a85c610-0e90-4cbd-f901-823d6ba1fb0b"
      },
      "outputs": [
        {
          "output_type": "stream",
          "name": "stdout",
          "text": [
            "Mounted at /content/drive\n",
            "time: 19.6 s (started: 2023-11-19 20:11:42 +00:00)\n"
          ]
        }
      ],
      "source": [
        "from google.colab import drive\n",
        "drive.mount('/content/drive')\n",
        "\n",
        "# Define the path with the data\n",
        "PATH = '/content/drive/MyDrive/Paper/Data/'"
      ]
    },
    {
      "cell_type": "code",
      "execution_count": 4,
      "id": "95d17cc7",
      "metadata": {
        "id": "95d17cc7",
        "outputId": "05adb099-d8ad-4460-f2cf-a72fdea5c8f4",
        "colab": {
          "base_uri": "https://localhost:8080/"
        }
      },
      "outputs": [
        {
          "output_type": "stream",
          "name": "stdout",
          "text": [
            "time: 2min 46s (started: 2023-11-19 20:12:01 +00:00)\n"
          ]
        }
      ],
      "source": [
        "counter = 0 # Taxi ID starts from 0\n",
        "\n",
        "# Create an empty dataframe, in which all the data will be saved\n",
        "all_data = pd.DataFrame(columns=['Taxi ID','Latitude','Longitude','Occupied','Date Time'])\n",
        "\n",
        "for filename in os.listdir(PATH):\n",
        "    try:\n",
        "      # Read each file in the Data folder\n",
        "      temp = pd.read_csv(PATH+'/'+filename,names=['Latitude','Longitude','Occupied','Date Time'],sep=' ')\n",
        "\n",
        "      # Assign Taxi ID number to each file\n",
        "      temp.insert(1,'Taxi ID',counter)\n",
        "\n",
        "      # Add the data in this file in the 'all_data' dataframe\n",
        "      all_data = pd.concat([all_data, temp],ignore_index = True)\n",
        "\n",
        "      counter += 1 # Increase Taxi ID number by 1\n",
        "    except:\n",
        "      continue"
      ]
    },
    {
      "cell_type": "markdown",
      "id": "22a2bca2",
      "metadata": {
        "id": "22a2bca2"
      },
      "source": [
        "##### Change datetime field to timestamp"
      ]
    },
    {
      "cell_type": "code",
      "execution_count": 5,
      "id": "d453e70c",
      "metadata": {
        "id": "d453e70c",
        "outputId": "5e7664c2-dd05-4316-8482-f82d48e88526",
        "colab": {
          "base_uri": "https://localhost:8080/"
        }
      },
      "outputs": [
        {
          "output_type": "stream",
          "name": "stdout",
          "text": [
            "time: 4.92 s (started: 2023-11-19 20:14:48 +00:00)\n"
          ]
        }
      ],
      "source": [
        "all_data['Date Time'] = pd.to_datetime(all_data['Date Time'],origin='unix',unit='s')"
      ]
    },
    {
      "cell_type": "markdown",
      "id": "59c06701",
      "metadata": {
        "id": "59c06701"
      },
      "source": [
        "##### Sort the data based in Taxi ID and timestamp information"
      ]
    },
    {
      "cell_type": "code",
      "execution_count": 6,
      "id": "2890a2fd",
      "metadata": {
        "id": "2890a2fd",
        "outputId": "28c7106c-c4ef-42dd-d0ce-4202c7ce057a",
        "colab": {
          "base_uri": "https://localhost:8080/"
        }
      },
      "outputs": [
        {
          "output_type": "stream",
          "name": "stdout",
          "text": [
            "time: 7.39 s (started: 2023-11-19 20:14:53 +00:00)\n"
          ]
        }
      ],
      "source": [
        "all_data = all_data.sort_values(['Taxi ID','Date Time'])\n",
        "all_data = all_data.reset_index(drop=True)"
      ]
    },
    {
      "cell_type": "markdown",
      "id": "094f8def",
      "metadata": {
        "id": "094f8def"
      },
      "source": [
        "##### Delete the 'Occupied' column\n",
        "This column denotes whether or not the taxi was occupied by a passenger during GPS recording. So, this information is not useful for our research."
      ]
    },
    {
      "cell_type": "code",
      "execution_count": 7,
      "id": "0453e842",
      "metadata": {
        "id": "0453e842",
        "outputId": "c6ac764a-9d30-4e30-b7bf-f347d6e7ba6d",
        "colab": {
          "base_uri": "https://localhost:8080/"
        }
      },
      "outputs": [
        {
          "output_type": "stream",
          "name": "stdout",
          "text": [
            "time: 430 ms (started: 2023-11-19 20:15:00 +00:00)\n"
          ]
        }
      ],
      "source": [
        "all_data.drop('Occupied',axis=1,inplace=True)"
      ]
    },
    {
      "cell_type": "markdown",
      "source": [
        "##### Present information about the dataset"
      ],
      "metadata": {
        "id": "hPLyApBi4AVL"
      },
      "id": "hPLyApBi4AVL"
    },
    {
      "cell_type": "code",
      "source": [
        "# Show the shape of the dataframe\n",
        "all_data.shape"
      ],
      "metadata": {
        "colab": {
          "base_uri": "https://localhost:8080/"
        },
        "id": "0K7yBmIp3Dp2",
        "outputId": "cbeb3419-d4bb-4b1e-dc74-b98d16593c20"
      },
      "id": "0K7yBmIp3Dp2",
      "execution_count": 8,
      "outputs": [
        {
          "output_type": "execute_result",
          "data": {
            "text/plain": [
              "(11224281, 4)"
            ]
          },
          "metadata": {},
          "execution_count": 8
        },
        {
          "output_type": "stream",
          "name": "stdout",
          "text": [
            "time: 6.69 ms (started: 2023-11-19 20:15:00 +00:00)\n"
          ]
        }
      ]
    },
    {
      "cell_type": "code",
      "source": [
        "# Print data types of every column present in the dataframe\n",
        "all_data.dtypes"
      ],
      "metadata": {
        "colab": {
          "base_uri": "https://localhost:8080/"
        },
        "id": "OhF3NUvGBeqV",
        "outputId": "9e0f6dd4-30cf-4898-8e87-b9d7a42928f8"
      },
      "id": "OhF3NUvGBeqV",
      "execution_count": 9,
      "outputs": [
        {
          "output_type": "execute_result",
          "data": {
            "text/plain": [
              "Taxi ID              object\n",
              "Latitude            float64\n",
              "Longitude           float64\n",
              "Date Time    datetime64[ns]\n",
              "dtype: object"
            ]
          },
          "metadata": {},
          "execution_count": 9
        },
        {
          "output_type": "stream",
          "name": "stdout",
          "text": [
            "time: 8.81 ms (started: 2023-11-19 20:15:00 +00:00)\n"
          ]
        }
      ]
    },
    {
      "cell_type": "code",
      "source": [
        "# Show schema information of the dataframe\n",
        "all_data.info()"
      ],
      "metadata": {
        "colab": {
          "base_uri": "https://localhost:8080/"
        },
        "id": "1eTs-X5h2eV_",
        "outputId": "8051b448-424b-4368-8388-fca357f8b11e"
      },
      "id": "1eTs-X5h2eV_",
      "execution_count": 10,
      "outputs": [
        {
          "output_type": "stream",
          "name": "stdout",
          "text": [
            "<class 'pandas.core.frame.DataFrame'>\n",
            "RangeIndex: 11224281 entries, 0 to 11224280\n",
            "Data columns (total 4 columns):\n",
            " #   Column     Dtype         \n",
            "---  ------     -----         \n",
            " 0   Taxi ID    object        \n",
            " 1   Latitude   float64       \n",
            " 2   Longitude  float64       \n",
            " 3   Date Time  datetime64[ns]\n",
            "dtypes: datetime64[ns](1), float64(2), object(1)\n",
            "memory usage: 342.5+ MB\n",
            "time: 14.1 ms (started: 2023-11-19 20:15:00 +00:00)\n"
          ]
        }
      ]
    },
    {
      "cell_type": "code",
      "source": [
        "# Present statistical insights about this dataframe\n",
        "all_data.describe()"
      ],
      "metadata": {
        "colab": {
          "base_uri": "https://localhost:8080/",
          "height": 318
        },
        "id": "xq7GgVdR3Hbn",
        "outputId": "2d353db1-177c-4da2-d82e-95789d105500"
      },
      "id": "xq7GgVdR3Hbn",
      "execution_count": 11,
      "outputs": [
        {
          "output_type": "execute_result",
          "data": {
            "text/plain": [
              "           Latitude     Longitude\n",
              "count  1.122428e+07  1.122428e+07\n",
              "mean   3.776360e+01 -1.224124e+02\n",
              "std    5.386684e-02  3.578742e-02\n",
              "min    3.286970e+01 -1.270814e+02\n",
              "25%    3.775513e+01 -1.224253e+02\n",
              "50%    3.778106e+01 -1.224111e+02\n",
              "75%    3.779045e+01 -1.224003e+02\n",
              "max    5.030546e+01 -1.155622e+02"
            ],
            "text/html": [
              "\n",
              "  <div id=\"df-75e96e87-35cf-48ca-873d-595f027b99e7\" class=\"colab-df-container\">\n",
              "    <div>\n",
              "<style scoped>\n",
              "    .dataframe tbody tr th:only-of-type {\n",
              "        vertical-align: middle;\n",
              "    }\n",
              "\n",
              "    .dataframe tbody tr th {\n",
              "        vertical-align: top;\n",
              "    }\n",
              "\n",
              "    .dataframe thead th {\n",
              "        text-align: right;\n",
              "    }\n",
              "</style>\n",
              "<table border=\"1\" class=\"dataframe\">\n",
              "  <thead>\n",
              "    <tr style=\"text-align: right;\">\n",
              "      <th></th>\n",
              "      <th>Latitude</th>\n",
              "      <th>Longitude</th>\n",
              "    </tr>\n",
              "  </thead>\n",
              "  <tbody>\n",
              "    <tr>\n",
              "      <th>count</th>\n",
              "      <td>1.122428e+07</td>\n",
              "      <td>1.122428e+07</td>\n",
              "    </tr>\n",
              "    <tr>\n",
              "      <th>mean</th>\n",
              "      <td>3.776360e+01</td>\n",
              "      <td>-1.224124e+02</td>\n",
              "    </tr>\n",
              "    <tr>\n",
              "      <th>std</th>\n",
              "      <td>5.386684e-02</td>\n",
              "      <td>3.578742e-02</td>\n",
              "    </tr>\n",
              "    <tr>\n",
              "      <th>min</th>\n",
              "      <td>3.286970e+01</td>\n",
              "      <td>-1.270814e+02</td>\n",
              "    </tr>\n",
              "    <tr>\n",
              "      <th>25%</th>\n",
              "      <td>3.775513e+01</td>\n",
              "      <td>-1.224253e+02</td>\n",
              "    </tr>\n",
              "    <tr>\n",
              "      <th>50%</th>\n",
              "      <td>3.778106e+01</td>\n",
              "      <td>-1.224111e+02</td>\n",
              "    </tr>\n",
              "    <tr>\n",
              "      <th>75%</th>\n",
              "      <td>3.779045e+01</td>\n",
              "      <td>-1.224003e+02</td>\n",
              "    </tr>\n",
              "    <tr>\n",
              "      <th>max</th>\n",
              "      <td>5.030546e+01</td>\n",
              "      <td>-1.155622e+02</td>\n",
              "    </tr>\n",
              "  </tbody>\n",
              "</table>\n",
              "</div>\n",
              "    <div class=\"colab-df-buttons\">\n",
              "\n",
              "  <div class=\"colab-df-container\">\n",
              "    <button class=\"colab-df-convert\" onclick=\"convertToInteractive('df-75e96e87-35cf-48ca-873d-595f027b99e7')\"\n",
              "            title=\"Convert this dataframe to an interactive table.\"\n",
              "            style=\"display:none;\">\n",
              "\n",
              "  <svg xmlns=\"http://www.w3.org/2000/svg\" height=\"24px\" viewBox=\"0 -960 960 960\">\n",
              "    <path d=\"M120-120v-720h720v720H120Zm60-500h600v-160H180v160Zm220 220h160v-160H400v160Zm0 220h160v-160H400v160ZM180-400h160v-160H180v160Zm440 0h160v-160H620v160ZM180-180h160v-160H180v160Zm440 0h160v-160H620v160Z\"/>\n",
              "  </svg>\n",
              "    </button>\n",
              "\n",
              "  <style>\n",
              "    .colab-df-container {\n",
              "      display:flex;\n",
              "      gap: 12px;\n",
              "    }\n",
              "\n",
              "    .colab-df-convert {\n",
              "      background-color: #E8F0FE;\n",
              "      border: none;\n",
              "      border-radius: 50%;\n",
              "      cursor: pointer;\n",
              "      display: none;\n",
              "      fill: #1967D2;\n",
              "      height: 32px;\n",
              "      padding: 0 0 0 0;\n",
              "      width: 32px;\n",
              "    }\n",
              "\n",
              "    .colab-df-convert:hover {\n",
              "      background-color: #E2EBFA;\n",
              "      box-shadow: 0px 1px 2px rgba(60, 64, 67, 0.3), 0px 1px 3px 1px rgba(60, 64, 67, 0.15);\n",
              "      fill: #174EA6;\n",
              "    }\n",
              "\n",
              "    .colab-df-buttons div {\n",
              "      margin-bottom: 4px;\n",
              "    }\n",
              "\n",
              "    [theme=dark] .colab-df-convert {\n",
              "      background-color: #3B4455;\n",
              "      fill: #D2E3FC;\n",
              "    }\n",
              "\n",
              "    [theme=dark] .colab-df-convert:hover {\n",
              "      background-color: #434B5C;\n",
              "      box-shadow: 0px 1px 3px 1px rgba(0, 0, 0, 0.15);\n",
              "      filter: drop-shadow(0px 1px 2px rgba(0, 0, 0, 0.3));\n",
              "      fill: #FFFFFF;\n",
              "    }\n",
              "  </style>\n",
              "\n",
              "    <script>\n",
              "      const buttonEl =\n",
              "        document.querySelector('#df-75e96e87-35cf-48ca-873d-595f027b99e7 button.colab-df-convert');\n",
              "      buttonEl.style.display =\n",
              "        google.colab.kernel.accessAllowed ? 'block' : 'none';\n",
              "\n",
              "      async function convertToInteractive(key) {\n",
              "        const element = document.querySelector('#df-75e96e87-35cf-48ca-873d-595f027b99e7');\n",
              "        const dataTable =\n",
              "          await google.colab.kernel.invokeFunction('convertToInteractive',\n",
              "                                                    [key], {});\n",
              "        if (!dataTable) return;\n",
              "\n",
              "        const docLinkHtml = 'Like what you see? Visit the ' +\n",
              "          '<a target=\"_blank\" href=https://colab.research.google.com/notebooks/data_table.ipynb>data table notebook</a>'\n",
              "          + ' to learn more about interactive tables.';\n",
              "        element.innerHTML = '';\n",
              "        dataTable['output_type'] = 'display_data';\n",
              "        await google.colab.output.renderOutput(dataTable, element);\n",
              "        const docLink = document.createElement('div');\n",
              "        docLink.innerHTML = docLinkHtml;\n",
              "        element.appendChild(docLink);\n",
              "      }\n",
              "    </script>\n",
              "  </div>\n",
              "\n",
              "\n",
              "<div id=\"df-057e684c-da47-4013-8504-2c23125017dc\">\n",
              "  <button class=\"colab-df-quickchart\" onclick=\"quickchart('df-057e684c-da47-4013-8504-2c23125017dc')\"\n",
              "            title=\"Suggest charts\"\n",
              "            style=\"display:none;\">\n",
              "\n",
              "<svg xmlns=\"http://www.w3.org/2000/svg\" height=\"24px\"viewBox=\"0 0 24 24\"\n",
              "     width=\"24px\">\n",
              "    <g>\n",
              "        <path d=\"M19 3H5c-1.1 0-2 .9-2 2v14c0 1.1.9 2 2 2h14c1.1 0 2-.9 2-2V5c0-1.1-.9-2-2-2zM9 17H7v-7h2v7zm4 0h-2V7h2v10zm4 0h-2v-4h2v4z\"/>\n",
              "    </g>\n",
              "</svg>\n",
              "  </button>\n",
              "\n",
              "<style>\n",
              "  .colab-df-quickchart {\n",
              "      --bg-color: #E8F0FE;\n",
              "      --fill-color: #1967D2;\n",
              "      --hover-bg-color: #E2EBFA;\n",
              "      --hover-fill-color: #174EA6;\n",
              "      --disabled-fill-color: #AAA;\n",
              "      --disabled-bg-color: #DDD;\n",
              "  }\n",
              "\n",
              "  [theme=dark] .colab-df-quickchart {\n",
              "      --bg-color: #3B4455;\n",
              "      --fill-color: #D2E3FC;\n",
              "      --hover-bg-color: #434B5C;\n",
              "      --hover-fill-color: #FFFFFF;\n",
              "      --disabled-bg-color: #3B4455;\n",
              "      --disabled-fill-color: #666;\n",
              "  }\n",
              "\n",
              "  .colab-df-quickchart {\n",
              "    background-color: var(--bg-color);\n",
              "    border: none;\n",
              "    border-radius: 50%;\n",
              "    cursor: pointer;\n",
              "    display: none;\n",
              "    fill: var(--fill-color);\n",
              "    height: 32px;\n",
              "    padding: 0;\n",
              "    width: 32px;\n",
              "  }\n",
              "\n",
              "  .colab-df-quickchart:hover {\n",
              "    background-color: var(--hover-bg-color);\n",
              "    box-shadow: 0 1px 2px rgba(60, 64, 67, 0.3), 0 1px 3px 1px rgba(60, 64, 67, 0.15);\n",
              "    fill: var(--button-hover-fill-color);\n",
              "  }\n",
              "\n",
              "  .colab-df-quickchart-complete:disabled,\n",
              "  .colab-df-quickchart-complete:disabled:hover {\n",
              "    background-color: var(--disabled-bg-color);\n",
              "    fill: var(--disabled-fill-color);\n",
              "    box-shadow: none;\n",
              "  }\n",
              "\n",
              "  .colab-df-spinner {\n",
              "    border: 2px solid var(--fill-color);\n",
              "    border-color: transparent;\n",
              "    border-bottom-color: var(--fill-color);\n",
              "    animation:\n",
              "      spin 1s steps(1) infinite;\n",
              "  }\n",
              "\n",
              "  @keyframes spin {\n",
              "    0% {\n",
              "      border-color: transparent;\n",
              "      border-bottom-color: var(--fill-color);\n",
              "      border-left-color: var(--fill-color);\n",
              "    }\n",
              "    20% {\n",
              "      border-color: transparent;\n",
              "      border-left-color: var(--fill-color);\n",
              "      border-top-color: var(--fill-color);\n",
              "    }\n",
              "    30% {\n",
              "      border-color: transparent;\n",
              "      border-left-color: var(--fill-color);\n",
              "      border-top-color: var(--fill-color);\n",
              "      border-right-color: var(--fill-color);\n",
              "    }\n",
              "    40% {\n",
              "      border-color: transparent;\n",
              "      border-right-color: var(--fill-color);\n",
              "      border-top-color: var(--fill-color);\n",
              "    }\n",
              "    60% {\n",
              "      border-color: transparent;\n",
              "      border-right-color: var(--fill-color);\n",
              "    }\n",
              "    80% {\n",
              "      border-color: transparent;\n",
              "      border-right-color: var(--fill-color);\n",
              "      border-bottom-color: var(--fill-color);\n",
              "    }\n",
              "    90% {\n",
              "      border-color: transparent;\n",
              "      border-bottom-color: var(--fill-color);\n",
              "    }\n",
              "  }\n",
              "</style>\n",
              "\n",
              "  <script>\n",
              "    async function quickchart(key) {\n",
              "      const quickchartButtonEl =\n",
              "        document.querySelector('#' + key + ' button');\n",
              "      quickchartButtonEl.disabled = true;  // To prevent multiple clicks.\n",
              "      quickchartButtonEl.classList.add('colab-df-spinner');\n",
              "      try {\n",
              "        const charts = await google.colab.kernel.invokeFunction(\n",
              "            'suggestCharts', [key], {});\n",
              "      } catch (error) {\n",
              "        console.error('Error during call to suggestCharts:', error);\n",
              "      }\n",
              "      quickchartButtonEl.classList.remove('colab-df-spinner');\n",
              "      quickchartButtonEl.classList.add('colab-df-quickchart-complete');\n",
              "    }\n",
              "    (() => {\n",
              "      let quickchartButtonEl =\n",
              "        document.querySelector('#df-057e684c-da47-4013-8504-2c23125017dc button');\n",
              "      quickchartButtonEl.style.display =\n",
              "        google.colab.kernel.accessAllowed ? 'block' : 'none';\n",
              "    })();\n",
              "  </script>\n",
              "</div>\n",
              "    </div>\n",
              "  </div>\n"
            ]
          },
          "metadata": {},
          "execution_count": 11
        },
        {
          "output_type": "stream",
          "name": "stdout",
          "text": [
            "time: 1.16 s (started: 2023-11-19 20:15:00 +00:00)\n"
          ]
        }
      ]
    },
    {
      "cell_type": "markdown",
      "id": "eb9a12e2",
      "metadata": {
        "id": "eb9a12e2"
      },
      "source": [
        "#### Split the trajectories based on time field and FIle ID\n",
        "\n",
        "Split each trajectory in the same Taxi ID based on the timestamp field.\n",
        "\n",
        "Here, <b>n_sec</b> variable denotes the maximum number of seconds that consecutive GPS traces in the same sub trajectory should have."
      ]
    },
    {
      "cell_type": "code",
      "execution_count": 12,
      "id": "691c47de",
      "metadata": {
        "id": "691c47de",
        "outputId": "43d42686-205c-416a-da52-44debfb467f1",
        "colab": {
          "base_uri": "https://localhost:8080/"
        }
      },
      "outputs": [
        {
          "output_type": "stream",
          "name": "stdout",
          "text": [
            "time: 30 ms (started: 2023-11-19 20:15:02 +00:00)\n"
          ]
        }
      ],
      "source": [
        "# Insert a new column\n",
        "all_data.insert(1,'Traj ID',-1)"
      ]
    },
    {
      "cell_type": "code",
      "execution_count": 13,
      "id": "07cfdfa8",
      "metadata": {
        "id": "07cfdfa8",
        "colab": {
          "base_uri": "https://localhost:8080/"
        },
        "outputId": "1324f497-3378-448f-c2f5-90b9fcaa3569"
      },
      "outputs": [
        {
          "output_type": "stream",
          "name": "stdout",
          "text": [
            "time: 30min 51s (started: 2023-11-19 20:15:02 +00:00)\n"
          ]
        }
      ],
      "source": [
        "'''\n",
        "Each Taxi ID contains GPS data of one trajectory\n",
        "\n",
        "If the time gap between two GPS points is lower than n_sec seconds, (condition 1)\n",
        "and these GPS points belong to the same Taxi ID  (condition 2)\n",
        "then asign the same Traj ID number. (result)\n",
        "\n",
        "If the time gap between two GPS points is higher than n_sec seconds, (condition 1)\n",
        "and these GPS points belong to the same Taxi ID  (condition 2)\n",
        "then asign different Traj ID number to each of these GPS points. (result)\n",
        "\n",
        "If the GPS points belong to the same Taxi ID  (condition)\n",
        "then asign different Traj ID number to each of these GPS points. (result)\n",
        "\n",
        "'''\n",
        "\n",
        "# Max number of seconds between GPS records of each traectory\n",
        "n_sec = 90\n",
        "traj_id = 0\n",
        "\n",
        "for i in range(all_data.shape[0] -1):\n",
        "\n",
        "    if (all_data['Taxi ID'][i+1] == all_data['Taxi ID'][i]): # Belong to the same File ID\n",
        "\n",
        "        if (((all_data['Date Time'][i+1])-(all_data['Date Time'][i])).total_seconds() <= n_sec): # Tme interval less-equal than n_sec\n",
        "            all_data.at[i,'Traj ID'] = traj_id\n",
        "            all_data.at[i+1,'Traj ID'] = traj_id\n",
        "\n",
        "        else: # Time interval higher than n_sec\n",
        "            all_data.at[i,'Traj ID'] = traj_id\n",
        "            traj_id +=1\n",
        "            all_data.at[i+1,'Traj ID'] = traj_id\n",
        "\n",
        "    else: # Not belong to the same File ID\n",
        "        all_data.at[i,'Traj ID'] = traj_id\n",
        "        traj_id  = 0\n",
        "        all_data.at[i+1,'Traj ID'] = traj_id"
      ]
    },
    {
      "cell_type": "code",
      "source": [
        "# Print dataframe\n",
        "all_data"
      ],
      "metadata": {
        "colab": {
          "base_uri": "https://localhost:8080/",
          "height": 441
        },
        "id": "ME3oxGOmA9l5",
        "outputId": "38996aa7-92fd-4c8a-b77f-96497a0a1094"
      },
      "id": "ME3oxGOmA9l5",
      "execution_count": 14,
      "outputs": [
        {
          "output_type": "execute_result",
          "data": {
            "text/plain": [
              "         Taxi ID  Traj ID  Latitude  Longitude           Date Time\n",
              "0              0        0  37.73515 -122.40484 2008-05-17 10:00:29\n",
              "1              0        0  37.72245 -122.40081 2008-05-17 10:01:14\n",
              "2              0        0  37.70973 -122.39541 2008-05-17 10:01:56\n",
              "3              0        0  37.69660 -122.39249 2008-05-17 10:02:33\n",
              "4              0        0  37.68318 -122.38942 2008-05-17 10:03:11\n",
              "...          ...      ...       ...        ...                 ...\n",
              "11224276     536      533  37.74332 -122.39649 2008-06-10 05:27:46\n",
              "11224277     536      533  37.74996 -122.39307 2008-06-10 05:28:46\n",
              "11224278     536      533  37.75201 -122.39383 2008-06-10 05:29:47\n",
              "11224279     536      533  37.75161 -122.39392 2008-06-10 05:30:47\n",
              "11224280     536      533  37.75162 -122.39393 2008-06-10 05:31:48\n",
              "\n",
              "[11224281 rows x 5 columns]"
            ],
            "text/html": [
              "\n",
              "  <div id=\"df-f3890222-2043-4f53-8c12-66a0c8f19422\" class=\"colab-df-container\">\n",
              "    <div>\n",
              "<style scoped>\n",
              "    .dataframe tbody tr th:only-of-type {\n",
              "        vertical-align: middle;\n",
              "    }\n",
              "\n",
              "    .dataframe tbody tr th {\n",
              "        vertical-align: top;\n",
              "    }\n",
              "\n",
              "    .dataframe thead th {\n",
              "        text-align: right;\n",
              "    }\n",
              "</style>\n",
              "<table border=\"1\" class=\"dataframe\">\n",
              "  <thead>\n",
              "    <tr style=\"text-align: right;\">\n",
              "      <th></th>\n",
              "      <th>Taxi ID</th>\n",
              "      <th>Traj ID</th>\n",
              "      <th>Latitude</th>\n",
              "      <th>Longitude</th>\n",
              "      <th>Date Time</th>\n",
              "    </tr>\n",
              "  </thead>\n",
              "  <tbody>\n",
              "    <tr>\n",
              "      <th>0</th>\n",
              "      <td>0</td>\n",
              "      <td>0</td>\n",
              "      <td>37.73515</td>\n",
              "      <td>-122.40484</td>\n",
              "      <td>2008-05-17 10:00:29</td>\n",
              "    </tr>\n",
              "    <tr>\n",
              "      <th>1</th>\n",
              "      <td>0</td>\n",
              "      <td>0</td>\n",
              "      <td>37.72245</td>\n",
              "      <td>-122.40081</td>\n",
              "      <td>2008-05-17 10:01:14</td>\n",
              "    </tr>\n",
              "    <tr>\n",
              "      <th>2</th>\n",
              "      <td>0</td>\n",
              "      <td>0</td>\n",
              "      <td>37.70973</td>\n",
              "      <td>-122.39541</td>\n",
              "      <td>2008-05-17 10:01:56</td>\n",
              "    </tr>\n",
              "    <tr>\n",
              "      <th>3</th>\n",
              "      <td>0</td>\n",
              "      <td>0</td>\n",
              "      <td>37.69660</td>\n",
              "      <td>-122.39249</td>\n",
              "      <td>2008-05-17 10:02:33</td>\n",
              "    </tr>\n",
              "    <tr>\n",
              "      <th>4</th>\n",
              "      <td>0</td>\n",
              "      <td>0</td>\n",
              "      <td>37.68318</td>\n",
              "      <td>-122.38942</td>\n",
              "      <td>2008-05-17 10:03:11</td>\n",
              "    </tr>\n",
              "    <tr>\n",
              "      <th>...</th>\n",
              "      <td>...</td>\n",
              "      <td>...</td>\n",
              "      <td>...</td>\n",
              "      <td>...</td>\n",
              "      <td>...</td>\n",
              "    </tr>\n",
              "    <tr>\n",
              "      <th>11224276</th>\n",
              "      <td>536</td>\n",
              "      <td>533</td>\n",
              "      <td>37.74332</td>\n",
              "      <td>-122.39649</td>\n",
              "      <td>2008-06-10 05:27:46</td>\n",
              "    </tr>\n",
              "    <tr>\n",
              "      <th>11224277</th>\n",
              "      <td>536</td>\n",
              "      <td>533</td>\n",
              "      <td>37.74996</td>\n",
              "      <td>-122.39307</td>\n",
              "      <td>2008-06-10 05:28:46</td>\n",
              "    </tr>\n",
              "    <tr>\n",
              "      <th>11224278</th>\n",
              "      <td>536</td>\n",
              "      <td>533</td>\n",
              "      <td>37.75201</td>\n",
              "      <td>-122.39383</td>\n",
              "      <td>2008-06-10 05:29:47</td>\n",
              "    </tr>\n",
              "    <tr>\n",
              "      <th>11224279</th>\n",
              "      <td>536</td>\n",
              "      <td>533</td>\n",
              "      <td>37.75161</td>\n",
              "      <td>-122.39392</td>\n",
              "      <td>2008-06-10 05:30:47</td>\n",
              "    </tr>\n",
              "    <tr>\n",
              "      <th>11224280</th>\n",
              "      <td>536</td>\n",
              "      <td>533</td>\n",
              "      <td>37.75162</td>\n",
              "      <td>-122.39393</td>\n",
              "      <td>2008-06-10 05:31:48</td>\n",
              "    </tr>\n",
              "  </tbody>\n",
              "</table>\n",
              "<p>11224281 rows × 5 columns</p>\n",
              "</div>\n",
              "    <div class=\"colab-df-buttons\">\n",
              "\n",
              "  <div class=\"colab-df-container\">\n",
              "    <button class=\"colab-df-convert\" onclick=\"convertToInteractive('df-f3890222-2043-4f53-8c12-66a0c8f19422')\"\n",
              "            title=\"Convert this dataframe to an interactive table.\"\n",
              "            style=\"display:none;\">\n",
              "\n",
              "  <svg xmlns=\"http://www.w3.org/2000/svg\" height=\"24px\" viewBox=\"0 -960 960 960\">\n",
              "    <path d=\"M120-120v-720h720v720H120Zm60-500h600v-160H180v160Zm220 220h160v-160H400v160Zm0 220h160v-160H400v160ZM180-400h160v-160H180v160Zm440 0h160v-160H620v160ZM180-180h160v-160H180v160Zm440 0h160v-160H620v160Z\"/>\n",
              "  </svg>\n",
              "    </button>\n",
              "\n",
              "  <style>\n",
              "    .colab-df-container {\n",
              "      display:flex;\n",
              "      gap: 12px;\n",
              "    }\n",
              "\n",
              "    .colab-df-convert {\n",
              "      background-color: #E8F0FE;\n",
              "      border: none;\n",
              "      border-radius: 50%;\n",
              "      cursor: pointer;\n",
              "      display: none;\n",
              "      fill: #1967D2;\n",
              "      height: 32px;\n",
              "      padding: 0 0 0 0;\n",
              "      width: 32px;\n",
              "    }\n",
              "\n",
              "    .colab-df-convert:hover {\n",
              "      background-color: #E2EBFA;\n",
              "      box-shadow: 0px 1px 2px rgba(60, 64, 67, 0.3), 0px 1px 3px 1px rgba(60, 64, 67, 0.15);\n",
              "      fill: #174EA6;\n",
              "    }\n",
              "\n",
              "    .colab-df-buttons div {\n",
              "      margin-bottom: 4px;\n",
              "    }\n",
              "\n",
              "    [theme=dark] .colab-df-convert {\n",
              "      background-color: #3B4455;\n",
              "      fill: #D2E3FC;\n",
              "    }\n",
              "\n",
              "    [theme=dark] .colab-df-convert:hover {\n",
              "      background-color: #434B5C;\n",
              "      box-shadow: 0px 1px 3px 1px rgba(0, 0, 0, 0.15);\n",
              "      filter: drop-shadow(0px 1px 2px rgba(0, 0, 0, 0.3));\n",
              "      fill: #FFFFFF;\n",
              "    }\n",
              "  </style>\n",
              "\n",
              "    <script>\n",
              "      const buttonEl =\n",
              "        document.querySelector('#df-f3890222-2043-4f53-8c12-66a0c8f19422 button.colab-df-convert');\n",
              "      buttonEl.style.display =\n",
              "        google.colab.kernel.accessAllowed ? 'block' : 'none';\n",
              "\n",
              "      async function convertToInteractive(key) {\n",
              "        const element = document.querySelector('#df-f3890222-2043-4f53-8c12-66a0c8f19422');\n",
              "        const dataTable =\n",
              "          await google.colab.kernel.invokeFunction('convertToInteractive',\n",
              "                                                    [key], {});\n",
              "        if (!dataTable) return;\n",
              "\n",
              "        const docLinkHtml = 'Like what you see? Visit the ' +\n",
              "          '<a target=\"_blank\" href=https://colab.research.google.com/notebooks/data_table.ipynb>data table notebook</a>'\n",
              "          + ' to learn more about interactive tables.';\n",
              "        element.innerHTML = '';\n",
              "        dataTable['output_type'] = 'display_data';\n",
              "        await google.colab.output.renderOutput(dataTable, element);\n",
              "        const docLink = document.createElement('div');\n",
              "        docLink.innerHTML = docLinkHtml;\n",
              "        element.appendChild(docLink);\n",
              "      }\n",
              "    </script>\n",
              "  </div>\n",
              "\n",
              "\n",
              "<div id=\"df-73be597c-354c-48cc-9c0d-a64a360e0266\">\n",
              "  <button class=\"colab-df-quickchart\" onclick=\"quickchart('df-73be597c-354c-48cc-9c0d-a64a360e0266')\"\n",
              "            title=\"Suggest charts\"\n",
              "            style=\"display:none;\">\n",
              "\n",
              "<svg xmlns=\"http://www.w3.org/2000/svg\" height=\"24px\"viewBox=\"0 0 24 24\"\n",
              "     width=\"24px\">\n",
              "    <g>\n",
              "        <path d=\"M19 3H5c-1.1 0-2 .9-2 2v14c0 1.1.9 2 2 2h14c1.1 0 2-.9 2-2V5c0-1.1-.9-2-2-2zM9 17H7v-7h2v7zm4 0h-2V7h2v10zm4 0h-2v-4h2v4z\"/>\n",
              "    </g>\n",
              "</svg>\n",
              "  </button>\n",
              "\n",
              "<style>\n",
              "  .colab-df-quickchart {\n",
              "      --bg-color: #E8F0FE;\n",
              "      --fill-color: #1967D2;\n",
              "      --hover-bg-color: #E2EBFA;\n",
              "      --hover-fill-color: #174EA6;\n",
              "      --disabled-fill-color: #AAA;\n",
              "      --disabled-bg-color: #DDD;\n",
              "  }\n",
              "\n",
              "  [theme=dark] .colab-df-quickchart {\n",
              "      --bg-color: #3B4455;\n",
              "      --fill-color: #D2E3FC;\n",
              "      --hover-bg-color: #434B5C;\n",
              "      --hover-fill-color: #FFFFFF;\n",
              "      --disabled-bg-color: #3B4455;\n",
              "      --disabled-fill-color: #666;\n",
              "  }\n",
              "\n",
              "  .colab-df-quickchart {\n",
              "    background-color: var(--bg-color);\n",
              "    border: none;\n",
              "    border-radius: 50%;\n",
              "    cursor: pointer;\n",
              "    display: none;\n",
              "    fill: var(--fill-color);\n",
              "    height: 32px;\n",
              "    padding: 0;\n",
              "    width: 32px;\n",
              "  }\n",
              "\n",
              "  .colab-df-quickchart:hover {\n",
              "    background-color: var(--hover-bg-color);\n",
              "    box-shadow: 0 1px 2px rgba(60, 64, 67, 0.3), 0 1px 3px 1px rgba(60, 64, 67, 0.15);\n",
              "    fill: var(--button-hover-fill-color);\n",
              "  }\n",
              "\n",
              "  .colab-df-quickchart-complete:disabled,\n",
              "  .colab-df-quickchart-complete:disabled:hover {\n",
              "    background-color: var(--disabled-bg-color);\n",
              "    fill: var(--disabled-fill-color);\n",
              "    box-shadow: none;\n",
              "  }\n",
              "\n",
              "  .colab-df-spinner {\n",
              "    border: 2px solid var(--fill-color);\n",
              "    border-color: transparent;\n",
              "    border-bottom-color: var(--fill-color);\n",
              "    animation:\n",
              "      spin 1s steps(1) infinite;\n",
              "  }\n",
              "\n",
              "  @keyframes spin {\n",
              "    0% {\n",
              "      border-color: transparent;\n",
              "      border-bottom-color: var(--fill-color);\n",
              "      border-left-color: var(--fill-color);\n",
              "    }\n",
              "    20% {\n",
              "      border-color: transparent;\n",
              "      border-left-color: var(--fill-color);\n",
              "      border-top-color: var(--fill-color);\n",
              "    }\n",
              "    30% {\n",
              "      border-color: transparent;\n",
              "      border-left-color: var(--fill-color);\n",
              "      border-top-color: var(--fill-color);\n",
              "      border-right-color: var(--fill-color);\n",
              "    }\n",
              "    40% {\n",
              "      border-color: transparent;\n",
              "      border-right-color: var(--fill-color);\n",
              "      border-top-color: var(--fill-color);\n",
              "    }\n",
              "    60% {\n",
              "      border-color: transparent;\n",
              "      border-right-color: var(--fill-color);\n",
              "    }\n",
              "    80% {\n",
              "      border-color: transparent;\n",
              "      border-right-color: var(--fill-color);\n",
              "      border-bottom-color: var(--fill-color);\n",
              "    }\n",
              "    90% {\n",
              "      border-color: transparent;\n",
              "      border-bottom-color: var(--fill-color);\n",
              "    }\n",
              "  }\n",
              "</style>\n",
              "\n",
              "  <script>\n",
              "    async function quickchart(key) {\n",
              "      const quickchartButtonEl =\n",
              "        document.querySelector('#' + key + ' button');\n",
              "      quickchartButtonEl.disabled = true;  // To prevent multiple clicks.\n",
              "      quickchartButtonEl.classList.add('colab-df-spinner');\n",
              "      try {\n",
              "        const charts = await google.colab.kernel.invokeFunction(\n",
              "            'suggestCharts', [key], {});\n",
              "      } catch (error) {\n",
              "        console.error('Error during call to suggestCharts:', error);\n",
              "      }\n",
              "      quickchartButtonEl.classList.remove('colab-df-spinner');\n",
              "      quickchartButtonEl.classList.add('colab-df-quickchart-complete');\n",
              "    }\n",
              "    (() => {\n",
              "      let quickchartButtonEl =\n",
              "        document.querySelector('#df-73be597c-354c-48cc-9c0d-a64a360e0266 button');\n",
              "      quickchartButtonEl.style.display =\n",
              "        google.colab.kernel.accessAllowed ? 'block' : 'none';\n",
              "    })();\n",
              "  </script>\n",
              "</div>\n",
              "    </div>\n",
              "  </div>\n"
            ]
          },
          "metadata": {},
          "execution_count": 14
        },
        {
          "output_type": "stream",
          "name": "stdout",
          "text": [
            "time: 23.1 ms (started: 2023-11-19 20:45:53 +00:00)\n"
          ]
        }
      ]
    },
    {
      "cell_type": "code",
      "source": [
        "# Save results\n",
        "SAVE_PATH = '/content/drive/MyDrive/Paper/Files/splitted_data.csv'\n",
        "all_data.to_csv(SAVE_PATH,index=False)"
      ],
      "metadata": {
        "colab": {
          "base_uri": "https://localhost:8080/"
        },
        "id": "egyTmsgn4Zzx",
        "outputId": "e7ada93a-3063-4273-b305-620017fa9702"
      },
      "id": "egyTmsgn4Zzx",
      "execution_count": 15,
      "outputs": [
        {
          "output_type": "stream",
          "name": "stdout",
          "text": [
            "time: 1min 21s (started: 2023-11-19 20:45:53 +00:00)\n"
          ]
        }
      ]
    }
  ],
  "metadata": {
    "kernelspec": {
      "display_name": "Python 3",
      "name": "python3"
    },
    "language_info": {
      "name": "python"
    },
    "colab": {
      "provenance": [],
      "gpuType": "V100",
      "include_colab_link": true
    },
    "accelerator": "GPU"
  },
  "nbformat": 4,
  "nbformat_minor": 5
}